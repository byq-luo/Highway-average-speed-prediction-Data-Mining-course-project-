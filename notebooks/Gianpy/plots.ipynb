{
 "cells": [
  {
   "cell_type": "code",
   "execution_count": 1,
   "metadata": {
    "pycharm": {}
   },
   "outputs": [],
   "source": [
    "import pandas as pd\n",
    "from tqdm import tqdm_notebook as tqdm\n",
    "import os\n",
    "import numpy as np\n",
    "import seaborn as sns\n",
    "import matplotlib.pyplot as plt\n",
    "\n",
    "os.chdir('../..')\n",
    "\n",
    "from src.utils import *"
   ]
  },
  {
   "cell_type": "code",
   "execution_count": null,
   "metadata": {
    "pycharm": {}
   },
   "outputs": [],
   "source": [
    "# Loading the data\n",
    "speeds_train_df = pd.read_csv(resources_path('dataset', 'preprocessed', 'speeds_train_imputed_time.csv.gz'), engine='c').dropna()\n",
    "sensors_df = pd.read_csv(resources_path('dataset', 'originals', 'sensors.csv.gz'), engine='c')\n",
    "events_df = pd.read_csv(resources_path('dataset', 'originals', 'events_train.csv.gz'), engine='c')\n",
    "speeds_train_df.head(5)"
   ]
  },
  {
   "cell_type": "code",
   "execution_count": null,
   "metadata": {
    "pycharm": {}
   },
   "outputs": [],
   "source": [
    "sensors_df.head(5)"
   ]
  },
  {
   "cell_type": "markdown",
   "metadata": {
    "pycharm": {}
   },
   "source": [
    "## Hourly prots"
   ]
  },
  {
   "cell_type": "code",
   "execution_count": null,
   "metadata": {
    "pycharm": {}
   },
   "outputs": [],
   "source": [
    "df = pd.merge(speeds_train_df.dropna(), sensors_df, left_on=[KEY, KM], right_on=[KEY, KM])\n",
    "df[DATETIME] = pd.to_datetime(df.DATETIME_UTC)\n",
    "df.head(5)"
   ]
  },
  {
   "cell_type": "code",
   "execution_count": null,
   "metadata": {
    "pycharm": {}
   },
   "outputs": [],
   "source": [
    "grouped_df = df.groupby([ROAD_TYPE, pd.Grouper(key=DATETIME, freq='3600s')])[[DATETIME, SPEED_AVG, N_CARS, 'IMPUTED']].mean()\n",
    "grouped_df.head(10)"
   ]
  },
  {
   "cell_type": "code",
   "execution_count": null,
   "metadata": {
    "pycharm": {}
   },
   "outputs": [],
   "source": [
    "grouped_df['IMPUTED'] = grouped_df['IMPUTED'] >= 0.01\n",
    "grouped_df = grouped_df.reset_index()\n",
    "grouped_df.describe()"
   ]
  },
  {
   "cell_type": "code",
   "execution_count": null,
   "metadata": {
    "pycharm": {}
   },
   "outputs": [],
   "source": [
    "plt.figure(figsize=(20, 10))\n",
    "sns.lineplot(x=grouped_df.DATETIME_UTC, y=grouped_df.SPEED_AVG, hue=grouped_df.ROAD_TYPE);"
   ]
  },
  {
   "cell_type": "markdown",
   "metadata": {
    "pycharm": {}
   },
   "source": [
    "## Daily plots"
   ]
  },
  {
   "cell_type": "code",
   "execution_count": null,
   "metadata": {
    "pycharm": {}
   },
   "outputs": [],
   "source": [
    "daily_df = df.groupby([ROAD_TYPE, pd.Grouper(key=DATETIME, freq='1D')])[[DATETIME, SPEED_AVG, N_CARS, 'IMPUTED']].mean()\n",
    "daily_df.head(10)"
   ]
  },
  {
   "cell_type": "code",
   "execution_count": null,
   "metadata": {
    "pycharm": {}
   },
   "outputs": [],
   "source": [
    "daily_df['IMPUTED'] = daily_df['IMPUTED'] >= 0.01\n",
    "daily_df = daily_df.reset_index()\n",
    "daily_df.describe()"
   ]
  },
  {
   "cell_type": "code",
   "execution_count": null,
   "metadata": {
    "pycharm": {}
   },
   "outputs": [],
   "source": [
    "plt.figure(figsize=(20, 10))\n",
    "sns.lineplot(x=daily_df.DATETIME_UTC, y=daily_df.SPEED_AVG, hue=daily_df.ROAD_TYPE);"
   ]
  },
  {
   "cell_type": "markdown",
   "metadata": {},
   "source": [
    "# Timeseries plots"
   ]
  },
  {
   "cell_type": "code",
   "execution_count": 2,
   "metadata": {},
   "outputs": [],
   "source": [
    "from src.data import speeds, sensors\n",
    "from statsmodels.graphics.tsaplots import plot_acf, plot_pacf\n",
    "import statsmodels.api as sm\n",
    "from statsmodels.tsa.seasonal import seasonal_decompose\n",
    "%matplotlib inline"
   ]
  },
  {
   "cell_type": "code",
   "execution_count": 3,
   "metadata": {},
   "outputs": [
    {
     "name": "stdout",
     "output_type": "stream",
     "text": [
      "caching resources/dataset/originals/speeds_train.csv.gz\n"
     ]
    }
   ],
   "source": [
    "speeds_df = speeds()"
   ]
  },
  {
   "cell_type": "code",
   "execution_count": 4,
   "metadata": {},
   "outputs": [
    {
     "name": "stdout",
     "output_type": "stream",
     "text": [
      "caching sensors\n",
      "\n",
      "sensors loaded in: 0.0111 s\n",
      "\n",
      "shape of the dataframe is: (2171, 5)\n"
     ]
    },
    {
     "data": {
      "text/html": [
       "<div>\n",
       "<style scoped>\n",
       "    .dataframe tbody tr th:only-of-type {\n",
       "        vertical-align: middle;\n",
       "    }\n",
       "\n",
       "    .dataframe tbody tr th {\n",
       "        vertical-align: top;\n",
       "    }\n",
       "\n",
       "    .dataframe thead th {\n",
       "        text-align: right;\n",
       "    }\n",
       "</style>\n",
       "<table border=\"1\" class=\"dataframe\">\n",
       "  <thead>\n",
       "    <tr style=\"text-align: right;\">\n",
       "      <th></th>\n",
       "      <th>KEY</th>\n",
       "      <th>EMERGENCY_LANE</th>\n",
       "      <th>KM</th>\n",
       "      <th>LANES</th>\n",
       "      <th>ROAD_TYPE</th>\n",
       "    </tr>\n",
       "  </thead>\n",
       "  <tbody>\n",
       "    <tr>\n",
       "      <th>0</th>\n",
       "      <td>44.0</td>\n",
       "      <td>0</td>\n",
       "      <td>1410</td>\n",
       "      <td>2</td>\n",
       "      <td>0</td>\n",
       "    </tr>\n",
       "    <tr>\n",
       "      <th>1</th>\n",
       "      <td>146.0</td>\n",
       "      <td>0</td>\n",
       "      <td>1473</td>\n",
       "      <td>2</td>\n",
       "      <td>0</td>\n",
       "    </tr>\n",
       "    <tr>\n",
       "      <th>2</th>\n",
       "      <td>53.0</td>\n",
       "      <td>0</td>\n",
       "      <td>1421</td>\n",
       "      <td>2</td>\n",
       "      <td>0</td>\n",
       "    </tr>\n",
       "    <tr>\n",
       "      <th>3</th>\n",
       "      <td>122.0</td>\n",
       "      <td>0</td>\n",
       "      <td>679</td>\n",
       "      <td>2</td>\n",
       "      <td>0</td>\n",
       "    </tr>\n",
       "    <tr>\n",
       "      <th>4</th>\n",
       "      <td>17.0</td>\n",
       "      <td>1</td>\n",
       "      <td>1399</td>\n",
       "      <td>3</td>\n",
       "      <td>1</td>\n",
       "    </tr>\n",
       "    <tr>\n",
       "      <th>5</th>\n",
       "      <td>68.0</td>\n",
       "      <td>0</td>\n",
       "      <td>906</td>\n",
       "      <td>1</td>\n",
       "      <td>0</td>\n",
       "    </tr>\n",
       "    <tr>\n",
       "      <th>6</th>\n",
       "      <td>532.0</td>\n",
       "      <td>0</td>\n",
       "      <td>1193</td>\n",
       "      <td>1</td>\n",
       "      <td>0</td>\n",
       "    </tr>\n",
       "    <tr>\n",
       "      <th>7</th>\n",
       "      <td>88.0</td>\n",
       "      <td>0</td>\n",
       "      <td>475</td>\n",
       "      <td>1</td>\n",
       "      <td>0</td>\n",
       "    </tr>\n",
       "    <tr>\n",
       "      <th>8</th>\n",
       "      <td>339.0</td>\n",
       "      <td>0</td>\n",
       "      <td>1038</td>\n",
       "      <td>1</td>\n",
       "      <td>0</td>\n",
       "    </tr>\n",
       "    <tr>\n",
       "      <th>9</th>\n",
       "      <td>96.0</td>\n",
       "      <td>0</td>\n",
       "      <td>671</td>\n",
       "      <td>1</td>\n",
       "      <td>0</td>\n",
       "    </tr>\n",
       "  </tbody>\n",
       "</table>\n",
       "</div>"
      ],
      "text/plain": [
       "     KEY  EMERGENCY_LANE    KM  LANES  ROAD_TYPE\n",
       "0   44.0               0  1410      2          0\n",
       "1  146.0               0  1473      2          0\n",
       "2   53.0               0  1421      2          0\n",
       "3  122.0               0   679      2          0\n",
       "4   17.0               1  1399      3          1\n",
       "5   68.0               0   906      1          0\n",
       "6  532.0               0  1193      1          0\n",
       "7   88.0               0   475      1          0\n",
       "8  339.0               0  1038      1          0\n",
       "9   96.0               0   671      1          0"
      ]
     },
     "execution_count": 4,
     "metadata": {},
     "output_type": "execute_result"
    }
   ],
   "source": [
    "sensors_df = sensors()\n",
    "sensors_df.head(10)"
   ]
  },
  {
   "cell_type": "code",
   "execution_count": 17,
   "metadata": {},
   "outputs": [
    {
     "data": {
      "text/html": [
       "<div>\n",
       "<style scoped>\n",
       "    .dataframe tbody tr th:only-of-type {\n",
       "        vertical-align: middle;\n",
       "    }\n",
       "\n",
       "    .dataframe tbody tr th {\n",
       "        vertical-align: top;\n",
       "    }\n",
       "\n",
       "    .dataframe thead th {\n",
       "        text-align: right;\n",
       "    }\n",
       "</style>\n",
       "<table border=\"1\" class=\"dataframe\">\n",
       "  <thead>\n",
       "    <tr style=\"text-align: right;\">\n",
       "      <th></th>\n",
       "      <th>KEY</th>\n",
       "      <th>DATETIME_UTC</th>\n",
       "      <th>KM</th>\n",
       "      <th>SPEED_AVG</th>\n",
       "      <th>SPEED_SD</th>\n",
       "      <th>SPEED_MIN</th>\n",
       "      <th>SPEED_MAX</th>\n",
       "      <th>N_VEHICLES</th>\n",
       "      <th>KEY_2</th>\n",
       "    </tr>\n",
       "  </thead>\n",
       "  <tbody>\n",
       "    <tr>\n",
       "      <th>2748434</th>\n",
       "      <td>17</td>\n",
       "      <td>2018-09-01 00:00:00</td>\n",
       "      <td>1399</td>\n",
       "      <td>216.794932</td>\n",
       "      <td>29.969838</td>\n",
       "      <td>134.294</td>\n",
       "      <td>328.454</td>\n",
       "      <td>474</td>\n",
       "      <td>17_1399</td>\n",
       "    </tr>\n",
       "    <tr>\n",
       "      <th>8704921</th>\n",
       "      <td>17</td>\n",
       "      <td>2018-09-01 00:15:00</td>\n",
       "      <td>1399</td>\n",
       "      <td>217.435548</td>\n",
       "      <td>29.243800</td>\n",
       "      <td>155.328</td>\n",
       "      <td>343.016</td>\n",
       "      <td>301</td>\n",
       "      <td>17_1399</td>\n",
       "    </tr>\n",
       "    <tr>\n",
       "      <th>581595</th>\n",
       "      <td>17</td>\n",
       "      <td>2018-09-01 00:30:00</td>\n",
       "      <td>1399</td>\n",
       "      <td>213.012673</td>\n",
       "      <td>26.446140</td>\n",
       "      <td>147.238</td>\n",
       "      <td>292.858</td>\n",
       "      <td>517</td>\n",
       "      <td>17_1399</td>\n",
       "    </tr>\n",
       "  </tbody>\n",
       "</table>\n",
       "</div>"
      ],
      "text/plain": [
       "         KEY        DATETIME_UTC    KM   SPEED_AVG   SPEED_SD  SPEED_MIN  \\\n",
       "2748434   17 2018-09-01 00:00:00  1399  216.794932  29.969838    134.294   \n",
       "8704921   17 2018-09-01 00:15:00  1399  217.435548  29.243800    155.328   \n",
       "581595    17 2018-09-01 00:30:00  1399  213.012673  26.446140    147.238   \n",
       "\n",
       "         SPEED_MAX  N_VEHICLES    KEY_2  \n",
       "2748434    328.454         474  17_1399  \n",
       "8704921    343.016         301  17_1399  \n",
       "581595     292.858         517  17_1399  "
      ]
     },
     "execution_count": 17,
     "metadata": {},
     "output_type": "execute_result"
    }
   ],
   "source": [
    "speeds = speeds_df[(speeds_df.KEY == 17) & (speeds_df.KM == 1399)].sort_values(DATETIME)\n",
    "speeds.head(3)"
   ]
  },
  {
   "cell_type": "code",
   "execution_count": 18,
   "metadata": {},
   "outputs": [
    {
     "name": "stdout",
     "output_type": "stream",
     "text": [
      "(8729, 1)\n"
     ]
    },
    {
     "data": {
      "text/html": [
       "<div>\n",
       "<style scoped>\n",
       "    .dataframe tbody tr th:only-of-type {\n",
       "        vertical-align: middle;\n",
       "    }\n",
       "\n",
       "    .dataframe tbody tr th {\n",
       "        vertical-align: top;\n",
       "    }\n",
       "\n",
       "    .dataframe thead th {\n",
       "        text-align: right;\n",
       "    }\n",
       "</style>\n",
       "<table border=\"1\" class=\"dataframe\">\n",
       "  <thead>\n",
       "    <tr style=\"text-align: right;\">\n",
       "      <th></th>\n",
       "      <th>SPEED_AVG</th>\n",
       "    </tr>\n",
       "    <tr>\n",
       "      <th>DATETIME_UTC</th>\n",
       "      <th></th>\n",
       "    </tr>\n",
       "  </thead>\n",
       "  <tbody>\n",
       "    <tr>\n",
       "      <th>2018-09-01 00:00:00</th>\n",
       "      <td>216.794932</td>\n",
       "    </tr>\n",
       "    <tr>\n",
       "      <th>2018-09-01 00:15:00</th>\n",
       "      <td>217.435548</td>\n",
       "    </tr>\n",
       "    <tr>\n",
       "      <th>2018-09-01 00:30:00</th>\n",
       "      <td>213.012673</td>\n",
       "    </tr>\n",
       "  </tbody>\n",
       "</table>\n",
       "</div>"
      ],
      "text/plain": [
       "                      SPEED_AVG\n",
       "DATETIME_UTC                   \n",
       "2018-09-01 00:00:00  216.794932\n",
       "2018-09-01 00:15:00  217.435548\n",
       "2018-09-01 00:30:00  213.012673"
      ]
     },
     "execution_count": 18,
     "metadata": {},
     "output_type": "execute_result"
    }
   ],
   "source": [
    "speeds = speeds[[DATETIME, SPEED_AVG]].set_index(DATETIME)\n",
    "speed_train = speeds[0:7000]\n",
    "speed_test = speeds[7000:]\n",
    "print(speeds.shape)\n",
    "speeds.head(3)"
   ]
  },
  {
   "cell_type": "code",
   "execution_count": 19,
   "metadata": {},
   "outputs": [
    {
     "data": {
      "image/png": "[encoded data removed]",
      "text/plain": [
       "<Figure size 432x288 with 1 Axes>"
      ]
     },
     "metadata": {
      "needs_background": "light"
     },
     "output_type": "display_data"
    }
   ],
   "source": [
    "plot_pacf(speed_train[SPEED_AVG], lags=24, title=SPEED_AVG)\n",
    "plt.show()"
   ]
  },
  {
   "cell_type": "code",
   "execution_count": 20,
   "metadata": {},
   "outputs": [
    {
     "data": {
      "image/png": "[encoded data removed]",
      "text/plain": [
       "<Figure size 432x288 with 4 Axes>"
      ]
     },
     "metadata": {
      "needs_background": "light"
     },
     "output_type": "display_data"
    }
   ],
   "source": [
    "decomposed_temperature = seasonal_decompose(x=speed_train[SPEED_AVG], freq=15)\n",
    "fig = decomposed_temperature.plot()"
   ]
  },
  {
   "cell_type": "code",
   "execution_count": 21,
   "metadata": {},
   "outputs": [
    {
     "data": {
      "text/html": [
       "<table class=\"simpletable\">\n",
       "<caption>ARIMA Model Results</caption>\n",
       "<tr>\n",
       "  <th>Dep. Variable:</th>        <td>D.y</td>       <th>  No. Observations:  </th>    <td>6998</td>   \n",
       "</tr>\n",
       "<tr>\n",
       "  <th>Model:</th>          <td>ARIMA(3, 1, 0)</td>  <th>  Log Likelihood     </th> <td>-28175.607</td>\n",
       "</tr>\n",
       "<tr>\n",
       "  <th>Method:</th>             <td>css-mle</td>     <th>  S.D. of innovations</th>   <td>13.562</td>  \n",
       "</tr>\n",
       "<tr>\n",
       "  <th>Date:</th>          <td>Fri, 31 May 2019</td> <th>  AIC                </th>  <td>56361.214</td>\n",
       "</tr>\n",
       "<tr>\n",
       "  <th>Time:</th>              <td>13:51:09</td>     <th>  BIC                </th>  <td>56395.481</td>\n",
       "</tr>\n",
       "<tr>\n",
       "  <th>Sample:</th>                <td>1</td>        <th>  HQIC               </th>  <td>56373.022</td>\n",
       "</tr>\n",
       "<tr>\n",
       "  <th></th>                       <td> </td>        <th>                     </th>      <td> </td>    \n",
       "</tr>\n",
       "</table>\n",
       "<table class=\"simpletable\">\n",
       "<tr>\n",
       "      <td></td>         <th>coef</th>     <th>std err</th>      <th>z</th>      <th>P>|z|</th>  <th>[0.025</th>    <th>0.975]</th>  \n",
       "</tr>\n",
       "<tr>\n",
       "  <th>const</th>     <td>    0.0006</td> <td>    0.060</td> <td>    0.011</td> <td> 0.992</td> <td>   -0.117</td> <td>    0.118</td>\n",
       "</tr>\n",
       "<tr>\n",
       "  <th>ar.L1.D.y</th> <td>   -0.8739</td> <td>    0.012</td> <td>  -75.690</td> <td> 0.000</td> <td>   -0.897</td> <td>   -0.851</td>\n",
       "</tr>\n",
       "<tr>\n",
       "  <th>ar.L2.D.y</th> <td>   -0.5680</td> <td>    0.014</td> <td>  -40.538</td> <td> 0.000</td> <td>   -0.595</td> <td>   -0.541</td>\n",
       "</tr>\n",
       "<tr>\n",
       "  <th>ar.L3.D.y</th> <td>   -0.2589</td> <td>    0.012</td> <td>  -22.418</td> <td> 0.000</td> <td>   -0.281</td> <td>   -0.236</td>\n",
       "</tr>\n",
       "</table>\n",
       "<table class=\"simpletable\">\n",
       "<caption>Roots</caption>\n",
       "<tr>\n",
       "    <td></td>   <th>            Real</th>  <th>         Imaginary</th> <th>         Modulus</th>  <th>        Frequency</th>\n",
       "</tr>\n",
       "<tr>\n",
       "  <th>AR.1</th> <td>          -1.5957</td> <td>          -0.0000j</td> <td>           1.5957</td> <td>          -0.5000</td>\n",
       "</tr>\n",
       "<tr>\n",
       "  <th>AR.2</th> <td>          -0.2993</td> <td>          -1.5269j</td> <td>           1.5559</td> <td>          -0.2808</td>\n",
       "</tr>\n",
       "<tr>\n",
       "  <th>AR.3</th> <td>          -0.2993</td> <td>          +1.5269j</td> <td>           1.5559</td> <td>           0.2808</td>\n",
       "</tr>\n",
       "</table>"
      ],
      "text/plain": [
       "<class 'statsmodels.iolib.summary.Summary'>\n",
       "\"\"\"\n",
       "                             ARIMA Model Results                              \n",
       "==============================================================================\n",
       "Dep. Variable:                    D.y   No. Observations:                 6998\n",
       "Model:                 ARIMA(3, 1, 0)   Log Likelihood              -28175.607\n",
       "Method:                       css-mle   S.D. of innovations             13.562\n",
       "Date:                Fri, 31 May 2019   AIC                          56361.214\n",
       "Time:                        13:51:09   BIC                          56395.481\n",
       "Sample:                             1   HQIC                         56373.022\n",
       "                                                                              \n",
       "==============================================================================\n",
       "                 coef    std err          z      P>|z|      [0.025      0.975]\n",
       "------------------------------------------------------------------------------\n",
       "const          0.0006      0.060      0.011      0.992      -0.117       0.118\n",
       "ar.L1.D.y     -0.8739      0.012    -75.690      0.000      -0.897      -0.851\n",
       "ar.L2.D.y     -0.5680      0.014    -40.538      0.000      -0.595      -0.541\n",
       "ar.L3.D.y     -0.2589      0.012    -22.418      0.000      -0.281      -0.236\n",
       "                                    Roots                                    \n",
       "=============================================================================\n",
       "                  Real          Imaginary           Modulus         Frequency\n",
       "-----------------------------------------------------------------------------\n",
       "AR.1           -1.5957           -0.0000j            1.5957           -0.5000\n",
       "AR.2           -0.2993           -1.5269j            1.5559           -0.2808\n",
       "AR.3           -0.2993           +1.5269j            1.5559            0.2808\n",
       "-----------------------------------------------------------------------------\n",
       "\"\"\""
      ]
     },
     "execution_count": 21,
     "metadata": {},
     "output_type": "execute_result"
    }
   ],
   "source": [
    "model = sm.tsa.ARIMA(speed_train[SPEED_AVG].diff().iloc[1:].values, order=(3,1,0))\n",
    "result = model.fit()\n",
    "result.summary()"
   ]
  },
  {
   "cell_type": "code",
   "execution_count": 22,
   "metadata": {},
   "outputs": [
    {
     "data": {
      "image/png": "[encoded data removed]",
      "text/plain": [
       "<Figure size 432x288 with 1 Axes>"
      ]
     },
     "metadata": {
      "needs_background": "light"
     },
     "output_type": "display_data"
    }
   ],
   "source": [
    "plot = result.plot_predict(start=150, end=200)\n",
    "plt.show()"
   ]
  },
  {
   "cell_type": "code",
   "execution_count": 23,
   "metadata": {},
   "outputs": [
    {
     "name": "stderr",
     "output_type": "stream",
     "text": [
      "/Users/gianpaolo/anaconda3/envs/dmtm/lib/python3.7/site-packages/statsmodels/tsa/base/tsa_model.py:225: ValueWarning: A date index has been provided, but it has no associated frequency information and so will be ignored when e.g. forecasting.\n",
      "  ' ignored when e.g. forecasting.', ValueWarning)\n"
     ]
    },
    {
     "data": {
      "text/html": [
       "<table class=\"simpletable\">\n",
       "<caption>Statespace Model Results</caption>\n",
       "<tr>\n",
       "  <th>Dep. Variable:</th>       <td>SPEED_AVG</td>    <th>  No. Observations:  </th>    <td>7000</td>   \n",
       "</tr>\n",
       "<tr>\n",
       "  <th>Model:</th>           <td>SARIMAX(7, 1, 0)</td> <th>  Log Likelihood     </th> <td>-27287.117</td>\n",
       "</tr>\n",
       "<tr>\n",
       "  <th>Date:</th>            <td>Fri, 31 May 2019</td> <th>  AIC                </th>  <td>54592.233</td>\n",
       "</tr>\n",
       "<tr>\n",
       "  <th>Time:</th>                <td>13:51:12</td>     <th>  BIC                </th>  <td>54653.915</td>\n",
       "</tr>\n",
       "<tr>\n",
       "  <th>Sample:</th>                  <td>0</td>        <th>  HQIC               </th>  <td>54613.488</td>\n",
       "</tr>\n",
       "<tr>\n",
       "  <th></th>                      <td> - 7000</td>     <th>                     </th>      <td> </td>    \n",
       "</tr>\n",
       "<tr>\n",
       "  <th>Covariance Type:</th>        <td>opg</td>       <th>                     </th>      <td> </td>    \n",
       "</tr>\n",
       "</table>\n",
       "<table class=\"simpletable\">\n",
       "<tr>\n",
       "      <td></td>         <th>coef</th>     <th>std err</th>      <th>z</th>      <th>P>|z|</th>  <th>[0.025</th>    <th>0.975]</th>  \n",
       "</tr>\n",
       "<tr>\n",
       "  <th>intercept</th> <td>    0.0019</td> <td>    0.156</td> <td>    0.012</td> <td> 0.990</td> <td>   -0.304</td> <td>    0.308</td>\n",
       "</tr>\n",
       "<tr>\n",
       "  <th>ar.L1</th>     <td>   -0.1556</td> <td>    0.006</td> <td>  -24.175</td> <td> 0.000</td> <td>   -0.168</td> <td>   -0.143</td>\n",
       "</tr>\n",
       "<tr>\n",
       "  <th>ar.L2</th>     <td>   -0.0159</td> <td>    0.007</td> <td>   -2.174</td> <td> 0.030</td> <td>   -0.030</td> <td>   -0.002</td>\n",
       "</tr>\n",
       "<tr>\n",
       "  <th>ar.L3</th>     <td>   -0.0133</td> <td>    0.007</td> <td>   -1.847</td> <td> 0.065</td> <td>   -0.027</td> <td>    0.001</td>\n",
       "</tr>\n",
       "<tr>\n",
       "  <th>ar.L4</th>     <td>   -0.0195</td> <td>    0.008</td> <td>   -2.317</td> <td> 0.020</td> <td>   -0.036</td> <td>   -0.003</td>\n",
       "</tr>\n",
       "<tr>\n",
       "  <th>ar.L5</th>     <td>    0.0244</td> <td>    0.009</td> <td>    2.619</td> <td> 0.009</td> <td>    0.006</td> <td>    0.043</td>\n",
       "</tr>\n",
       "<tr>\n",
       "  <th>ar.L6</th>     <td>    0.0261</td> <td>    0.009</td> <td>    2.798</td> <td> 0.005</td> <td>    0.008</td> <td>    0.044</td>\n",
       "</tr>\n",
       "<tr>\n",
       "  <th>ar.L7</th>     <td>   -0.0113</td> <td>    0.010</td> <td>   -1.187</td> <td> 0.235</td> <td>   -0.030</td> <td>    0.007</td>\n",
       "</tr>\n",
       "<tr>\n",
       "  <th>sigma2</th>    <td>  142.5826</td> <td>    0.911</td> <td>  156.519</td> <td> 0.000</td> <td>  140.797</td> <td>  144.368</td>\n",
       "</tr>\n",
       "</table>\n",
       "<table class=\"simpletable\">\n",
       "<tr>\n",
       "  <th>Ljung-Box (Q):</th>          <td>111.74</td> <th>  Jarque-Bera (JB):  </th> <td>45671.84</td>\n",
       "</tr>\n",
       "<tr>\n",
       "  <th>Prob(Q):</th>                 <td>0.00</td>  <th>  Prob(JB):          </th>   <td>0.00</td>  \n",
       "</tr>\n",
       "<tr>\n",
       "  <th>Heteroskedasticity (H):</th>  <td>1.10</td>  <th>  Skew:              </th>   <td>-0.01</td> \n",
       "</tr>\n",
       "<tr>\n",
       "  <th>Prob(H) (two-sided):</th>     <td>0.02</td>  <th>  Kurtosis:          </th>   <td>15.51</td> \n",
       "</tr>\n",
       "</table><br/><br/>Warnings:<br/>[1] Covariance matrix calculated using the outer product of gradients (complex-step)."
      ],
      "text/plain": [
       "<class 'statsmodels.iolib.summary.Summary'>\n",
       "\"\"\"\n",
       "                           Statespace Model Results                           \n",
       "==============================================================================\n",
       "Dep. Variable:              SPEED_AVG   No. Observations:                 7000\n",
       "Model:               SARIMAX(7, 1, 0)   Log Likelihood              -27287.117\n",
       "Date:                Fri, 31 May 2019   AIC                          54592.233\n",
       "Time:                        13:51:12   BIC                          54653.915\n",
       "Sample:                             0   HQIC                         54613.488\n",
       "                               - 7000                                         \n",
       "Covariance Type:                  opg                                         \n",
       "==============================================================================\n",
       "                 coef    std err          z      P>|z|      [0.025      0.975]\n",
       "------------------------------------------------------------------------------\n",
       "intercept      0.0019      0.156      0.012      0.990      -0.304       0.308\n",
       "ar.L1         -0.1556      0.006    -24.175      0.000      -0.168      -0.143\n",
       "ar.L2         -0.0159      0.007     -2.174      0.030      -0.030      -0.002\n",
       "ar.L3         -0.0133      0.007     -1.847      0.065      -0.027       0.001\n",
       "ar.L4         -0.0195      0.008     -2.317      0.020      -0.036      -0.003\n",
       "ar.L5          0.0244      0.009      2.619      0.009       0.006       0.043\n",
       "ar.L6          0.0261      0.009      2.798      0.005       0.008       0.044\n",
       "ar.L7         -0.0113      0.010     -1.187      0.235      -0.030       0.007\n",
       "sigma2       142.5826      0.911    156.519      0.000     140.797     144.368\n",
       "===================================================================================\n",
       "Ljung-Box (Q):                      111.74   Jarque-Bera (JB):             45671.84\n",
       "Prob(Q):                              0.00   Prob(JB):                         0.00\n",
       "Heteroskedasticity (H):               1.10   Skew:                            -0.01\n",
       "Prob(H) (two-sided):                  0.02   Kurtosis:                        15.51\n",
       "===================================================================================\n",
       "\n",
       "Warnings:\n",
       "[1] Covariance matrix calculated using the outer product of gradients (complex-step).\n",
       "\"\"\""
      ]
     },
     "execution_count": 23,
     "metadata": {},
     "output_type": "execute_result"
    }
   ],
   "source": [
    "train_sample = speed_train[SPEED_AVG]\n",
    "model = sm.tsa.SARIMAX(train_sample, order=(7,1,0), trend='c')\n",
    "result = model.fit(maxiter=1000,disp=False)\n",
    "result.summary()"
   ]
  },
  {
   "cell_type": "code",
   "execution_count": 35,
   "metadata": {},
   "outputs": [
    {
     "name": "stderr",
     "output_type": "stream",
     "text": [
      "/Users/gianpaolo/anaconda3/envs/dmtm/lib/python3.7/site-packages/statsmodels/tsa/base/tsa_model.py:531: ValueWarning: No supported index is available. Prediction results will be given with an integer index beginning at `start`.\n",
      "  ValueWarning)\n"
     ]
    },
    {
     "data": {
      "image/png": "[encoded data removed]",
      "text/plain": [
       "<Figure size 432x288 with 1 Axes>"
      ]
     },
     "metadata": {
      "needs_background": "light"
     },
     "output_type": "display_data"
    }
   ],
   "source": [
    "predicted_result = result.forecast(steps = len(speed_test))\n",
    "plt.plot(speed_test.reset_index()[SPEED_AVG], color='red')\n",
    "plt.plot(predicted_result.reset_index()[0], color='blue')\n",
    "plt.legend(['Actual', 'Predicted'])\n",
    "plt.show()"
   ]
  },
  {
   "cell_type": "code",
   "execution_count": 34,
   "metadata": {},
   "outputs": [
    {
     "data": {
      "text/plain": [
       "0       221.494989\n",
       "1       221.555552\n",
       "2       221.444030\n",
       "3       221.394175\n",
       "4       221.497748\n",
       "5       221.489096\n",
       "6       221.484423\n",
       "7       221.486155\n",
       "8       221.481156\n",
       "9       221.486538\n",
       "10      221.490818\n",
       "11      221.490505\n",
       "12      221.492444\n",
       "13      221.493876\n",
       "14      221.495439\n",
       "15      221.497369\n",
       "16      221.498945\n",
       "17      221.500526\n",
       "18      221.502202\n",
       "19      221.503826\n",
       "20      221.505481\n",
       "21      221.507131\n",
       "22      221.508766\n",
       "23      221.510411\n",
       "24      221.512055\n",
       "25      221.513697\n",
       "26      221.515341\n",
       "27      221.516984\n",
       "28      221.518628\n",
       "29      221.520271\n",
       "           ...    \n",
       "1699    224.264625\n",
       "1700    224.266269\n",
       "1701    224.267912\n",
       "1702    224.269555\n",
       "1703    224.271199\n",
       "1704    224.272842\n",
       "1705    224.274485\n",
       "1706    224.276129\n",
       "1707    224.277772\n",
       "1708    224.279415\n",
       "1709    224.281058\n",
       "1710    224.282702\n",
       "1711    224.284345\n",
       "1712    224.285988\n",
       "1713    224.287632\n",
       "1714    224.289275\n",
       "1715    224.290918\n",
       "1716    224.292562\n",
       "1717    224.294205\n",
       "1718    224.295848\n",
       "1719    224.297492\n",
       "1720    224.299135\n",
       "1721    224.300778\n",
       "1722    224.302422\n",
       "1723    224.304065\n",
       "1724    224.305708\n",
       "1725    224.307352\n",
       "1726    224.308995\n",
       "1727    224.310638\n",
       "1728    224.312282\n",
       "Name: 0, Length: 1729, dtype: float64"
      ]
     },
     "execution_count": 34,
     "metadata": {},
     "output_type": "execute_result"
    }
   ],
   "source": [
    "predicted_result.reset_index()[0]"
   ]
  }
 ],
 "metadata": {
  "kernelspec": {
   "display_name": "Python 3",
   "language": "python",
   "name": "python3"
  },
  "language_info": {
   "codemirror_mode": {
    "name": "ipython",
    "version": 3
   },
   "file_extension": ".py",
   "mimetype": "text/x-python",
   "name": "python",
   "nbconvert_exporter": "python",
   "pygments_lexer": "ipython3",
   "version": "3.7.0"
  }
 },
 "nbformat": 4,
 "nbformat_minor": 2
}
