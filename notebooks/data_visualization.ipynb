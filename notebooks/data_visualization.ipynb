{
  "cells": [
    {
      "cell_type": "code",
      "execution_count": 4,
      "metadata": {
        "collapsed": true,
        "pycharm": {
          "is_executing": false
        }
      },
      "outputs": [],
      "source": "# Imports\nimport pandas as pd\nimport matplotlib.pyplot as plt\nfrom src.utils import *\n\n%matplotlib inline\n"
    },
    {
      "cell_type": "code",
      "execution_count": 5,
      "outputs": [],
      "source": "# Loading the data\nspeeds_train_df \u003d pd.read_csv(resources_path(\u0027data\u0027, \u0027speeds_test.csv.gz\u0027), engine\u003d\u0027c\u0027)\n",
      "metadata": {
        "pycharm": {
          "metadata": false,
          "name": "#%%\n",
          "is_executing": false
        }
      }
    },
    {
      "cell_type": "code",
      "execution_count": 7,
      "outputs": [
        {
          "name": "stdout",
          "text": [
            "   KEY         DATETIME_UTC   KM   SPEED_AVG   SPEED_SD  SPEED_MIN  SPEED_MAX  \\\n0    0  2018-12-01 05:45:00  443  149.462750  11.339183    137.530    186.070   \n1    0  2018-12-01 14:30:00  443  183.164204  18.459800    140.766    223.284   \n2    0  2018-12-02 01:30:00  443  172.317000  14.873284    161.800    182.834   \n3    0  2018-12-02 08:00:00  443  181.913414  21.211454    139.148    224.902   \n4    0  2018-12-03 06:00:00  443  155.443571  19.456223    121.350    218.430   \n\n   N_VEHICLES  KEY_2  \n0          24  0_443  \n1          49  0_443  \n2           2  0_443  \n3          58  0_443  \n4          84  0_443  \n          KEY      KM    SPEED_AVG     SPEED_SD    SPEED_MIN    SPEED_MAX  \\\ncount  3017.0  3017.0  3017.000000  3017.000000  3017.000000  3017.000000   \nmean      0.0   443.0   170.684775    19.599331   133.723383   213.554548   \nstd       0.0     0.0    10.466627     5.486233    20.548307    17.402654   \nmin       0.0   443.0   129.440000     1.144099    64.720000   131.058000   \n25%       0.0   443.0   163.620250    16.573128   126.204000   202.250000   \n50%       0.0   443.0   170.299893    19.002841   135.912000   213.576000   \n75%       0.0   443.0   177.171000    22.109337   145.620000   224.902000   \nmax       0.0   443.0   227.329000    75.510519   213.576000   289.622000   \n\n        N_VEHICLES  \ncount  3017.000000  \nmean     62.372887  \nstd      47.446932  \nmin       2.000000  \n25%      15.000000  \n50%      58.000000  \n75%     101.000000  \nmax     216.000000  \n"
          ],
          "output_type": "stream"
        },
        {
          "data": {
            "text/plain": "\u003cFigure size 432x288 with 1 Axes\u003e",
            "image/png": "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\u003d\u003d\n"
          },
          "metadata": {
            "needs_background": "light"
          },
          "output_type": "display_data"
        }
      ],
      "source": "# Processing data\nfirst_sensor \u003d speeds_train_df[(speeds_train_df[\u0027KEY_2\u0027] \u003d\u003d \u00270_443\u0027)]\nprint(first_sensor.head(5))\nprint(first_sensor.describe())\nfirst_sensor[first_sensor[DATETIME] \u003c \u00272018-12-02\u0027].plot(x\u003dDATETIME, y\u003dSPEED_AVG, kind\u003d\u0027box\u0027)\nplt.show()\n\n",
      "metadata": {
        "pycharm": {
          "metadata": false,
          "name": "#%%\n",
          "is_executing": false
        }
      }
    }
  ],
  "metadata": {
    "language_info": {
      "codemirror_mode": {
        "name": "ipython",
        "version": 2
      },
      "file_extension": ".py",
      "mimetype": "text/x-python",
      "name": "python",
      "nbconvert_exporter": "python",
      "pygments_lexer": "ipython2",
      "version": "2.7.6"
    },
    "kernelspec": {
      "name": "conda-env-dmtm-py",
      "language": "python",
      "display_name": "Python [conda env:dmtm] *"
    }
  },
  "nbformat": 4,
  "nbformat_minor": 0
}