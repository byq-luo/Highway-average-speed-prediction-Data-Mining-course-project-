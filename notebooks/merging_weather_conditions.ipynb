{
 "cells": [
  {
   "cell_type": "code",
   "execution_count": null,
   "metadata": {},
   "outputs": [],
   "source": [
    "from src import data\n",
    "import pandas as pd\n",
    "import math\n",
    "import numpy as np\n",
    "from tqdm import tqdm"
   ]
  },
  {
   "cell_type": "code",
   "execution_count": null,
   "metadata": {},
   "outputs": [],
   "source": [
    "speed = data.speeds('train')\n",
    "bsm = pd.read_csv('/home/giovanni/Desktop/DMProject/resources/dataset/preprocessed/base_structure_df_weather.csv.gz')\n",
    "bsm = bsm.drop(['Unnamed: 0'], axis=1)\n",
    "bsm.DATETIME_UTC = pd.to_datetime(bsm.DATETIME_UTC)\n",
    "bsm['hour'] = pd.to_datetime(bsm.DATETIME_UTC).dt.hour"
   ]
  },
  {
   "cell_type": "code",
   "execution_count": null,
   "metadata": {},
   "outputs": [],
   "source": [
    "bsm.WEATHER.unique()"
   ]
  },
  {
   "cell_type": "code",
   "execution_count": null,
   "metadata": {},
   "outputs": [],
   "source": [
    "bsm"
   ]
  },
  {
   "cell_type": "code",
   "execution_count": null,
   "metadata": {},
   "outputs": [],
   "source": [
    "d = {}\n",
    "bsm_dropped_duplicates = bsm.drop_duplicates(subset=['KEY', 'KM'])[['KEY', 'KM']]\n",
    "keys = bsm_dropped_duplicates.KEY.values\n",
    "kms = bsm_dropped_duplicates.KM.values\n",
    "for idx in tqdm(range(len(kms))):\n",
    "    key = keys[idx]\n",
    "    km = kms[idx]\n",
    "    fs = bsm[(bsm.KEY == key) & (bsm.KM == km)]\n",
    "    speeds = speed[(speed.KEY == key) & (speed.KM == km)]\n",
    "    fmerged = speeds.merge(fs)\n",
    "    for h in range(24):\n",
    "        merged = fmerged[(fmerged.hour == h)]        \n",
    "        mean_street = merged.SPEED_AVG.mean()\n",
    "        for wt in merged.WEATHER.unique():\n",
    "            slicew = merged[merged.WEATHER == wt]\n",
    "            slice_mean = slicew.SPEED_AVG.mean()\n",
    "            if type(wt) != float:\n",
    "                if wt not in d:\n",
    "                    d[wt] = [mean_street-slice_mean]\n",
    "                else:\n",
    "                    d[wt].append(mean_street-slice_mean)\n",
    "    #print('weather condition {}. mean: {}. diff: {}'.format(wt, slice_mean, abs(mean_street-slice_mean)))\n",
    "#d"
   ]
  },
  {
   "cell_type": "code",
   "execution_count": null,
   "metadata": {},
   "outputs": [],
   "source": [
    "d_mean = {}\n",
    "for k,v in d.items():\n",
    "    d_mean[k] = (-sum(v)/len(v), len(v))\n",
    "d_mean"
   ]
  },
  {
   "cell_type": "code",
   "execution_count": null,
   "metadata": {},
   "outputs": [],
   "source": [
    "len(d)"
   ]
  },
  {
   "cell_type": "code",
   "execution_count": null,
   "metadata": {},
   "outputs": [],
   "source": [
    "d_mean = {}\n",
    "for k,v in d.items():\n",
    "    d_mean[k] = -sum(v)/len(v)\n",
    "d_mean"
   ]
  }
 ],
 "metadata": {
  "kernelspec": {
   "display_name": "Python 3",
   "language": "python",
   "name": "python3"
  },
  "language_info": {
   "codemirror_mode": {
    "name": "ipython",
    "version": 3
   },
   "file_extension": ".py",
   "mimetype": "text/x-python",
   "name": "python",
   "nbconvert_exporter": "python",
   "pygments_lexer": "ipython3",
   "version": "3.6.8"
  }
 },
 "nbformat": 4,
 "nbformat_minor": 2
}
