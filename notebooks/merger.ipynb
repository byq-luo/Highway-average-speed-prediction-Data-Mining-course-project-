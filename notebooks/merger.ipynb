{
 "cells": [
  {
   "cell_type": "code",
   "execution_count": 1,
   "metadata": {
    "pycharm": {
     "is_executing": false
    }
   },
   "outputs": [],
   "source": [
    "import pandas as pd\n",
    "from tqdm import tqdm_notebook as tqdm\n",
    "import os\n",
    "import numpy as np\n",
    "\n",
    "os.chdir('..')\n",
    "\n",
    "from src.utils import *"
   ]
  },
  {
   "cell_type": "code",
   "execution_count": 2,
   "metadata": {
    "pycharm": {
     "is_executing": false
    }
   },
   "outputs": [],
   "source": [
    "speeds_df = pd.read_csv(resources_path('dataset', 'originals', 'speeds_train.csv.gz'))\n",
    "events_df = pd.read_csv(resources_path('dataset', 'originals', 'events_train.csv.gz'))\n",
    "sensors_df = pd.read_csv(resources_path('dataset', 'originals', 'sensors.csv.gz'))"
   ]
  },
  {
   "cell_type": "code",
   "execution_count": 3,
   "metadata": {
    "pycharm": {}
   },
   "outputs": [],
   "source": [
    "start_km = np.minimum(events_df['KM_START'].values, events_df['KM_END'].values)\n",
    "end_km = np.maximum(events_df['KM_START'].values, events_df['KM_END'].values)\n",
    "events_df['KM_START'] = start_km\n",
    "events_df['KM_END'] = end_km"
   ]
  },
  {
   "cell_type": "code",
   "execution_count": 4,
   "metadata": {
    "pycharm": {}
   },
   "outputs": [
    {
     "data": {
      "text/html": [
       "<div>\n",
       "<style scoped>\n",
       "    .dataframe tbody tr th:only-of-type {\n",
       "        vertical-align: middle;\n",
       "    }\n",
       "\n",
       "    .dataframe tbody tr th {\n",
       "        vertical-align: top;\n",
       "    }\n",
       "\n",
       "    .dataframe thead th {\n",
       "        text-align: right;\n",
       "    }\n",
       "</style>\n",
       "<table border=\"1\" class=\"dataframe\">\n",
       "  <thead>\n",
       "    <tr style=\"text-align: right;\">\n",
       "      <th></th>\n",
       "      <th>START_DATETIME_UTC</th>\n",
       "      <th>END_DATETIME_UTC</th>\n",
       "      <th>EVENT_DETAIL</th>\n",
       "      <th>EVENT_TYPE</th>\n",
       "      <th>KM_END</th>\n",
       "      <th>KM_START</th>\n",
       "      <th>KEY</th>\n",
       "      <th>KEY_2</th>\n",
       "    </tr>\n",
       "  </thead>\n",
       "  <tbody>\n",
       "    <tr>\n",
       "      <th>0</th>\n",
       "      <td>2018-07-19 07:34:46</td>\n",
       "      <td>2018-08-01 15:23:17</td>\n",
       "      <td>0.0</td>\n",
       "      <td>Gestione_viabilita</td>\n",
       "      <td>959</td>\n",
       "      <td>954</td>\n",
       "      <td>523.0</td>\n",
       "      <td>523_959</td>\n",
       "    </tr>\n",
       "    <tr>\n",
       "      <th>1</th>\n",
       "      <td>2018-07-25 12:20:06</td>\n",
       "      <td>2018-10-12 18:29:37</td>\n",
       "      <td>1.0</td>\n",
       "      <td>Pavimentazione</td>\n",
       "      <td>1821</td>\n",
       "      <td>1814</td>\n",
       "      <td>325.0</td>\n",
       "      <td>325_1814</td>\n",
       "    </tr>\n",
       "    <tr>\n",
       "      <th>2</th>\n",
       "      <td>2018-08-01 07:44:00</td>\n",
       "      <td>2018-08-01 16:18:58</td>\n",
       "      <td>2.0</td>\n",
       "      <td>Manutenzione_opere_in_verde</td>\n",
       "      <td>321</td>\n",
       "      <td>282</td>\n",
       "      <td>525.0</td>\n",
       "      <td>525_321</td>\n",
       "    </tr>\n",
       "    <tr>\n",
       "      <th>3</th>\n",
       "      <td>2018-08-01 08:14:30</td>\n",
       "      <td>2018-08-01 17:39:13</td>\n",
       "      <td>3.0</td>\n",
       "      <td>Opera_arte</td>\n",
       "      <td>713</td>\n",
       "      <td>712</td>\n",
       "      <td>517.0</td>\n",
       "      <td>517_713</td>\n",
       "    </tr>\n",
       "    <tr>\n",
       "      <th>4</th>\n",
       "      <td>2018-08-01 08:18:32</td>\n",
       "      <td>2018-08-01 17:38:27</td>\n",
       "      <td>3.0</td>\n",
       "      <td>Opera_arte</td>\n",
       "      <td>2543</td>\n",
       "      <td>2542</td>\n",
       "      <td>518.0</td>\n",
       "      <td>518_2542</td>\n",
       "    </tr>\n",
       "  </tbody>\n",
       "</table>\n",
       "</div>"
      ],
      "text/plain": [
       "    START_DATETIME_UTC     END_DATETIME_UTC  EVENT_DETAIL  \\\n",
       "0  2018-07-19 07:34:46  2018-08-01 15:23:17           0.0   \n",
       "1  2018-07-25 12:20:06  2018-10-12 18:29:37           1.0   \n",
       "2  2018-08-01 07:44:00  2018-08-01 16:18:58           2.0   \n",
       "3  2018-08-01 08:14:30  2018-08-01 17:39:13           3.0   \n",
       "4  2018-08-01 08:18:32  2018-08-01 17:38:27           3.0   \n",
       "\n",
       "                    EVENT_TYPE  KM_END  KM_START    KEY     KEY_2  \n",
       "0           Gestione_viabilita     959       954  523.0   523_959  \n",
       "1               Pavimentazione    1821      1814  325.0  325_1814  \n",
       "2  Manutenzione_opere_in_verde     321       282  525.0   525_321  \n",
       "3                   Opera_arte     713       712  517.0   517_713  \n",
       "4                   Opera_arte    2543      2542  518.0  518_2542  "
      ]
     },
     "execution_count": 4,
     "metadata": {},
     "output_type": "execute_result"
    }
   ],
   "source": [
    "events_df.head(5)"
   ]
  },
  {
   "cell_type": "code",
   "execution_count": 5,
   "metadata": {
    "pycharm": {}
   },
   "outputs": [
    {
     "data": {
      "text/html": [
       "<div>\n",
       "<style scoped>\n",
       "    .dataframe tbody tr th:only-of-type {\n",
       "        vertical-align: middle;\n",
       "    }\n",
       "\n",
       "    .dataframe tbody tr th {\n",
       "        vertical-align: top;\n",
       "    }\n",
       "\n",
       "    .dataframe thead th {\n",
       "        text-align: right;\n",
       "    }\n",
       "</style>\n",
       "<table border=\"1\" class=\"dataframe\">\n",
       "  <thead>\n",
       "    <tr style=\"text-align: right;\">\n",
       "      <th></th>\n",
       "      <th>KEY</th>\n",
       "      <th>EMERGENCY_LANE</th>\n",
       "      <th>KM</th>\n",
       "      <th>LANES</th>\n",
       "      <th>ROAD_TYPE</th>\n",
       "    </tr>\n",
       "  </thead>\n",
       "  <tbody>\n",
       "    <tr>\n",
       "      <th>0</th>\n",
       "      <td>44.0</td>\n",
       "      <td>0</td>\n",
       "      <td>1410</td>\n",
       "      <td>2</td>\n",
       "      <td>0</td>\n",
       "    </tr>\n",
       "    <tr>\n",
       "      <th>1</th>\n",
       "      <td>146.0</td>\n",
       "      <td>0</td>\n",
       "      <td>1473</td>\n",
       "      <td>2</td>\n",
       "      <td>0</td>\n",
       "    </tr>\n",
       "    <tr>\n",
       "      <th>2</th>\n",
       "      <td>53.0</td>\n",
       "      <td>0</td>\n",
       "      <td>1421</td>\n",
       "      <td>2</td>\n",
       "      <td>0</td>\n",
       "    </tr>\n",
       "    <tr>\n",
       "      <th>3</th>\n",
       "      <td>122.0</td>\n",
       "      <td>0</td>\n",
       "      <td>679</td>\n",
       "      <td>2</td>\n",
       "      <td>0</td>\n",
       "    </tr>\n",
       "    <tr>\n",
       "      <th>4</th>\n",
       "      <td>17.0</td>\n",
       "      <td>1</td>\n",
       "      <td>1399</td>\n",
       "      <td>3</td>\n",
       "      <td>1</td>\n",
       "    </tr>\n",
       "  </tbody>\n",
       "</table>\n",
       "</div>"
      ],
      "text/plain": [
       "     KEY  EMERGENCY_LANE    KM  LANES  ROAD_TYPE\n",
       "0   44.0               0  1410      2          0\n",
       "1  146.0               0  1473      2          0\n",
       "2   53.0               0  1421      2          0\n",
       "3  122.0               0   679      2          0\n",
       "4   17.0               1  1399      3          1"
      ]
     },
     "execution_count": 5,
     "metadata": {},
     "output_type": "execute_result"
    }
   ],
   "source": [
    "sensors_df.head(5)"
   ]
  },
  {
   "cell_type": "code",
   "execution_count": 6,
   "metadata": {
    "pycharm": {}
   },
   "outputs": [
    {
     "name": "stdout",
     "output_type": "stream",
     "text": [
      "Events: 38008\n",
      "Merged: 430588\n"
     ]
    }
   ],
   "source": [
    "df = events_df\n",
    "print(f'Events: {len(events_df)}')\n",
    "df = pd.merge(df, sensors_df, how='outer')\n",
    "print(f'Merged: {len(df)}')"
   ]
  },
  {
   "cell_type": "code",
   "execution_count": null,
   "metadata": {
    "pycharm": {}
   },
   "outputs": [],
   "source": [
    "df.groupby([KEY, EVENT_TYPE]).count()"
   ]
  },
  {
   "cell_type": "code",
   "execution_count": null,
   "metadata": {
    "pycharm": {}
   },
   "outputs": [],
   "source": [
    "df['DISTANCE'] = df.KM - (df.KM_START + (df.KM_END - df.KM_START)/2)\n",
    "df.head(5)"
   ]
  }
 ],
 "metadata": {
  "kernelspec": {
   "display_name": "Python3.7 - dmtm",
   "language": "python",
   "name": "dmtm"
  },
  "language_info": {
   "codemirror_mode": {
    "name": "ipython",
    "version": 3
   },
   "file_extension": ".py",
   "mimetype": "text/x-python",
   "name": "python",
   "nbconvert_exporter": "python",
   "pygments_lexer": "ipython3",
   "version": "3.7.0"
  }
 },
 "nbformat": 4,
 "nbformat_minor": 2
}
