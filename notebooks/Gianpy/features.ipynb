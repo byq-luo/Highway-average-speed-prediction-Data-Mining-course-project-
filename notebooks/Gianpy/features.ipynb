{
 "cells": [
  {
   "cell_type": "code",
   "execution_count": null,
   "metadata": {},
   "outputs": [],
   "source": [
    "# Imports\n",
    "import pandas as pd\n",
    "import matplotlib.pyplot as plt\n",
    "import os\n",
    "import seaborn as sns\n",
    "import numpy as np\n",
    "from sklearn.model_selection import train_test_split\n",
    "sns.set(style=\"white\", color_codes=True)\n",
    "sns.set_context(rc={'font.family': 'sans', 'font.size': 24, 'axes.titlesize':24, 'axes.labelsize':24})\n",
    "#if you want to know current working dir\n",
    "os.chdir('../..')\n",
    "\n",
    "from src.utils import *\n",
    "from src.utility import merge_speed_events\n",
    "import src.data as data\n",
    "import src.utility as utils\n",
    "from src.preprocessing.other_features import avg_speed_for_roadtype_event\n",
    "\n",
    "%matplotlib inline"
   ]
  },
  {
   "cell_type": "code",
   "execution_count": null,
   "metadata": {},
   "outputs": [],
   "source": [
    "print('Extracting min and max timestamps...')\n",
    "min_datetime = data.speeds_original(mode='train').DATETIME_UTC.min()\n",
    "max_datetime = data.speeds_original(mode='test').DATETIME_UTC.max()\n",
    "speeds = data.speeds_original()\n",
    "sensors = data.sensors().drop_duplicates([KEY, KM])\n",
    "print('Done')"
   ]
  },
  {
   "cell_type": "code",
   "execution_count": null,
   "metadata": {},
   "outputs": [],
   "source": [
    "datetimes_df = pd.DataFrame(pd.date_range(min_datetime, max_datetime, freq='15min').to_series()).reset_index()\n",
    "datetimes_df[DATETIME] = pd.to_datetime(datetimes_df['index'])\n",
    "datetimes_df = datetimes_df[[DATETIME]]\n",
    "datetimes_df['DATETIME_HOUR'] = pd.to_datetime(datetimes_df[DATETIME]).apply(lambda x: x.floor('1H'))\n",
    "datetimes_df['DATETIME_HOUR'] = datetimes_df['DATETIME_HOUR'] - pd.DateOffset(1)\n",
    "print(datetimes_df.shape)\n",
    "datetimes_df.head(4)"
   ]
  },
  {
   "cell_type": "code",
   "execution_count": null,
   "metadata": {},
   "outputs": [],
   "source": [
    "datetimes_df['MERGE'] = 0\n",
    "sensors['MERGE'] = 0\n",
    "print(sensors.shape)\n",
    "sensors.head(2)"
   ]
  },
  {
   "cell_type": "code",
   "execution_count": null,
   "metadata": {},
   "outputs": [],
   "source": [
    "datetimes_df.head(4)"
   ]
  },
  {
   "cell_type": "code",
   "execution_count": null,
   "metadata": {},
   "outputs": [],
   "source": [
    "skeleton = pd.merge(sensors[[KEY, KM, 'MERGE']], datetimes_df, on='MERGE')\n",
    "skeleton[DATETIME] = pd.to_datetime(skeleton[DATETIME])\n",
    "skeleton.set_index(DATETIME, inplace=True)\n",
    "print(skeleton.shape)\n",
    "skeleton.head(3)"
   ]
  },
  {
   "cell_type": "code",
   "execution_count": null,
   "metadata": {},
   "outputs": [],
   "source": [
    "speeds.head(2)"
   ]
  },
  {
   "cell_type": "code",
   "execution_count": null,
   "metadata": {},
   "outputs": [],
   "source": [
    "resampled_speeds = speeds\\\n",
    "    .groupby([KEY, KM])\\\n",
    "    .apply(lambda x: x.set_index(DATETIME)\\\n",
    "    .resample('H').mean()[[SPEED_AVG, SPEED_MAX, SPEED_MIN, SPEED_SD, N_CARS]]).reset_index()\n",
    "resampled_speeds.head(5)"
   ]
  },
  {
   "cell_type": "code",
   "execution_count": null,
   "metadata": {},
   "outputs": [],
   "source": [
    "skeleton_merge = skeleton.reset_index()\n",
    "df = pd.merge(skeleton_merge, resampled_speeds, left_on=[KEY, KM, 'DATETIME_HOUR'], right_on=[KEY, KM, DATETIME])\n",
    "print(df.shape)\n",
    "df.head(2)"
   ]
  },
  {
   "cell_type": "code",
   "execution_count": null,
   "metadata": {},
   "outputs": [],
   "source": [
    "# df = df.drop(['DATETIME_HOUR', 'DATETIME_UTC_y', 'MERGE'], axis=1)\n",
    "df = df.rename(columns={'DATETIME_UTC_x': 'DATETIME_UTC', SPEED_AVG: 'SPEED_AVG_D-1',\n",
    "                       SPEED_MAX: 'SPEED_MAX_D-1', SPEED_MIN: 'SPEED_MIN_D-1',\n",
    "                        SPEED_SD: 'SPEED_SD_D-1', N_CARS: 'N_VEHICLES_D-1'})\n",
    "df.head(2)"
   ]
  },
  {
   "cell_type": "code",
   "execution_count": null,
   "metadata": {},
   "outputs": [],
   "source": []
  }
 ],
 "metadata": {
  "kernelspec": {
   "display_name": "Python3.7 - dmtm",
   "language": "python",
   "name": "dmtm"
  },
  "language_info": {
   "codemirror_mode": {
    "name": "ipython",
    "version": 3
   },
   "file_extension": ".py",
   "mimetype": "text/x-python",
   "name": "python",
   "nbconvert_exporter": "python",
   "pygments_lexer": "ipython3",
   "version": "3.7.0"
  }
 },
 "nbformat": 4,
 "nbformat_minor": 2
}
