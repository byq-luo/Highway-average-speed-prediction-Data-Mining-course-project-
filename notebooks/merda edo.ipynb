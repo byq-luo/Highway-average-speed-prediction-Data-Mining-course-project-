{
 "cells": [
  {
   "cell_type": "code",
   "execution_count": 2,
   "metadata": {},
   "outputs": [],
   "source": [
    "import os\n",
    "os.chdir('./..')"
   ]
  },
  {
   "cell_type": "code",
   "execution_count": 3,
   "metadata": {},
   "outputs": [],
   "source": [
    "import src.data as data\n",
    "import pandas as pd\n",
    "import numpy as np\n",
    "import matplotlib.pyplot as plt"
   ]
  },
  {
   "cell_type": "code",
   "execution_count": 4,
   "metadata": {},
   "outputs": [],
   "source": [
    "def create_base_structure():\n",
    "    \"\"\"\n",
    "    Call to create the base structure it is a pd Dataframe composed as follow:\n",
    "    KEY | DATETIME_UTC | KM\n",
    "    it is usefull to do join with other dataframe\n",
    "    in it there are all the DATETIME_UTC present both in train and test speeds.csv files\n",
    "    \"\"\"\n",
    "    start = time()\n",
    "\n",
    "    # define the base path where to save the base_structure\n",
    "    _BASE_PATH = 'resources/dataset/preprocessed'\n",
    "\n",
    "    # check if the folder exsist if not create it\n",
    "    utils.check_folder(_BASE_PATH)\n",
    "\n",
    "    speeds_train = data.speeds_train()\n",
    "    speeds_test = data.speeds_test()\n",
    "\n",
    "    datetime_train = speeds_train.DATETIME_UTC.unique()\n",
    "    datetime_test = speeds_test.DATETIME_UTC.unique()\n",
    "\n",
    "    # get all the unique datetimes of train and test\n",
    "    datetime_full = set(datetime_train)|set(datetime_test)\n",
    "\n",
    "    key_2_train = speeds_train.KEY_2.unique()\n",
    "    key_2_test = speeds_test.KEY_2.unique()\n",
    "\n",
    "    # get all the unique key_2 in train and test\n",
    "    key_2_full = sorted(set(key_2_test)|set(key_2_train))\n",
    "\n",
    "    temp = pd.DataFrame(list(map(lambda x: x.split('_'), key_2_full)), columns=['KEY', 'KM'])\n",
    "    datetime_df = pd.DataFrame(np.array(list(datetime_full)), columns=['DATETIME_UTC'])\n",
    "\n",
    "    # add dummy column to let a merge do a cartesian product\n",
    "    temp['dummy'] = 0\n",
    "    datetime_df['dummy'] = 0\n",
    "\n",
    "    print('Doing cartesian product... it will take a while!')\n",
    "    base_structure = pd.merge(datetime_df, temp).drop(['dummy'], axis=1)\n",
    "    print('Done\\n')\n",
    "\n",
    "    # reorder the columns in KEY, DATETIME_UTC, KM\n",
    "    km_series = base_structure.pop('KM')\n",
    "    datetime_series = base_structure.pop('DATETIME_UTC')\n",
    "\n",
    "    base_structure['DATETIME_UTC'] = datetime_series\n",
    "    base_structure['KM'] = km_series\n",
    "\n",
    "    print('sorting values...')\n",
    "    base_structure = base_structure.sort_values(['KEY', 'DATETIME_UTC', 'KM']).reset_index(drop=True)\n",
    "    print('Done\\n')\n",
    "\n",
    "    # save the base structure\n",
    "    print('Saving base structure to {}/base_structure.csv'.format(_BASE_PATH))\n",
    "    base_structure.to_csv(f'{_BASE_PATH}/base_structure.csv', index=False)\n",
    "    print('Done\\n')\n",
    "\n",
    "    print(f'PROCEDURE ENDED SUCCESSFULLY IN: {round(time()-start,4)} s')\n"
   ]
  },
  {
   "cell_type": "code",
   "execution_count": 5,
   "metadata": {},
   "outputs": [
    {
     "name": "stdout",
     "output_type": "stream",
     "text": [
      "caching speeds_train\n",
      "\n",
      "speeds_train loaded in: 18.071 s\n",
      "\n",
      "shape of the dataframe is: (10832482, 9)\n",
      "caching speeds_test\n",
      "\n",
      "speeds_test loaded in: 5.6525 s\n",
      "\n",
      "shape of the dataframe is: (3488814, 9)\n"
     ]
    }
   ],
   "source": [
    "# retrieve the datetime of train and test\n",
    "speeds_train = data.speeds_train()\n",
    "speeds_test = data.speeds_test()"
   ]
  },
  {
   "cell_type": "code",
   "execution_count": 9,
   "metadata": {},
   "outputs": [],
   "source": [
    "datetimes_train = sorted(speeds_train.DATETIME_UTC.unique())\n",
    "datetimes_test = sorted(speeds_test.DATETIME_UTC.unique())"
   ]
  },
  {
   "cell_type": "code",
   "execution_count": 10,
   "metadata": {},
   "outputs": [],
   "source": [
    "min_train = datetimes_train[0]\n",
    "max_train = datetimes_train[-1]\n",
    "min_test = datetimes_test[0]\n",
    "max_test = datetimes_test[-1]"
   ]
  },
  {
   "cell_type": "code",
   "execution_count": 11,
   "metadata": {},
   "outputs": [
    {
     "data": {
      "text/plain": [
       "'2018-09-01 00:00:00'"
      ]
     },
     "execution_count": 11,
     "metadata": {},
     "output_type": "execute_result"
    }
   ],
   "source": [
    "min_train"
   ]
  },
  {
   "cell_type": "code",
   "execution_count": 12,
   "metadata": {},
   "outputs": [
    {
     "data": {
      "text/plain": [
       "'2018-11-30 23:45:00'"
      ]
     },
     "execution_count": 12,
     "metadata": {},
     "output_type": "execute_result"
    }
   ],
   "source": [
    "max_train"
   ]
  },
  {
   "cell_type": "code",
   "execution_count": 13,
   "metadata": {},
   "outputs": [
    {
     "data": {
      "text/plain": [
       "'2018-12-01 00:00:00'"
      ]
     },
     "execution_count": 13,
     "metadata": {},
     "output_type": "execute_result"
    }
   ],
   "source": [
    "min_test"
   ]
  },
  {
   "cell_type": "code",
   "execution_count": 14,
   "metadata": {},
   "outputs": [
    {
     "data": {
      "text/plain": [
       "'2019-01-01 23:45:00'"
      ]
     },
     "execution_count": 14,
     "metadata": {},
     "output_type": "execute_result"
    }
   ],
   "source": [
    "max_test"
   ]
  },
  {
   "cell_type": "code",
   "execution_count": 56,
   "metadata": {},
   "outputs": [],
   "source": [
    "dt_max_test=datetime.strptime(max_test, '%Y-%m-%d %H:%M:%S')"
   ]
  },
  {
   "cell_type": "code",
   "execution_count": 57,
   "metadata": {},
   "outputs": [],
   "source": [
    "dt_min_train=datetime.strptime(min_train, '%Y-%m-%d %H:%M:%S')"
   ]
  },
  {
   "cell_type": "code",
   "execution_count": 47,
   "metadata": {},
   "outputs": [
    {
     "data": {
      "text/plain": [
       "datetime.timedelta(days=122, seconds=85500)"
      ]
     },
     "execution_count": 47,
     "metadata": {},
     "output_type": "execute_result"
    }
   ],
   "source": [
    "dt_max_test-dt_min_train"
   ]
  },
  {
   "cell_type": "code",
   "execution_count": 61,
   "metadata": {},
   "outputs": [
    {
     "ename": "AttributeError",
     "evalue": "'datetime.timedelta' object has no attribute 'minutes'",
     "output_type": "error",
     "traceback": [
      "\u001b[0;31m---------------------------------------------------------------------------\u001b[0m",
      "\u001b[0;31mAttributeError\u001b[0m                            Traceback (most recent call last)",
      "\u001b[0;32m<ipython-input-61-4792dc3311c6>\u001b[0m in \u001b[0;36m<module>\u001b[0;34m\u001b[0m\n\u001b[0;32m----> 1\u001b[0;31m \u001b[0mdd\u001b[0m \u001b[0;34m=\u001b[0m \u001b[0;34m[\u001b[0m\u001b[0mdt_min_train\u001b[0m \u001b[0;34m+\u001b[0m \u001b[0mtimedelta\u001b[0m\u001b[0;34m(\u001b[0m\u001b[0mminutes\u001b[0m\u001b[0;34m=\u001b[0m\u001b[0mx\u001b[0m\u001b[0;34m)\u001b[0m \u001b[0;32mfor\u001b[0m \u001b[0mx\u001b[0m \u001b[0;32min\u001b[0m \u001b[0mrange\u001b[0m\u001b[0;34m(\u001b[0m\u001b[0;34m(\u001b[0m\u001b[0mdt_max_test\u001b[0m\u001b[0;34m-\u001b[0m\u001b[0mdt_min_train\u001b[0m\u001b[0;34m)\u001b[0m\u001b[0;34m.\u001b[0m\u001b[0mminutes\u001b[0m\u001b[0;34m)\u001b[0m\u001b[0;34m]\u001b[0m\u001b[0;34m\u001b[0m\u001b[0;34m\u001b[0m\u001b[0m\n\u001b[0m",
      "\u001b[0;31mAttributeError\u001b[0m: 'datetime.timedelta' object has no attribute 'minutes'"
     ]
    }
   ],
   "source": [
    "dd = [dt_min_train + timedelta(minutes=x) for x in range((dt_max_test-dt_min_train).min)]"
   ]
  },
  {
   "cell_type": "code",
   "execution_count": 51,
   "metadata": {},
   "outputs": [],
   "source": [
    "delta=timedelta(minutes=15)"
   ]
  },
  {
   "cell_type": "code",
   "execution_count": 50,
   "metadata": {},
   "outputs": [
    {
     "data": {
      "text/plain": [
       "datetime.datetime(2018, 9, 1, 0, 15)"
      ]
     },
     "execution_count": 50,
     "metadata": {},
     "output_type": "execute_result"
    }
   ],
   "source": [
    "dd = [dt_min_train + timedelta(minutes=x) for x in range((dt_max_test-dt_min_train).minutes + 1)]"
   ]
  },
  {
   "cell_type": "code",
   "execution_count": 69,
   "metadata": {},
   "outputs": [],
   "source": [
    "dif = dt_max_test-dt_min_train"
   ]
  },
  {
   "cell_type": "code",
   "execution_count": 75,
   "metadata": {},
   "outputs": [],
   "source": [
    "unixtime = time.mktime(dt_min_train.timetuple())"
   ]
  },
  {
   "cell_type": "code",
   "execution_count": 76,
   "metadata": {},
   "outputs": [
    {
     "data": {
      "text/plain": [
       "datetime.timedelta(days=122, seconds=85500)"
      ]
     },
     "execution_count": 76,
     "metadata": {},
     "output_type": "execute_result"
    }
   ],
   "source": [
    "_"
   ]
  },
  {
   "cell_type": "code",
   "execution_count": null,
   "metadata": {},
   "outputs": [],
   "source": [
    "\n"
   ]
  }
 ],
 "metadata": {
  "kernelspec": {
   "display_name": "Python 3",
   "language": "python",
   "name": "python3"
  },
  "language_info": {
   "codemirror_mode": {
    "name": "ipython",
    "version": 3
   },
   "file_extension": ".py",
   "mimetype": "text/x-python",
   "name": "python",
   "nbconvert_exporter": "python",
   "pygments_lexer": "ipython3",
   "version": "3.7.1"
  }
 },
 "nbformat": 4,
 "nbformat_minor": 2
}
