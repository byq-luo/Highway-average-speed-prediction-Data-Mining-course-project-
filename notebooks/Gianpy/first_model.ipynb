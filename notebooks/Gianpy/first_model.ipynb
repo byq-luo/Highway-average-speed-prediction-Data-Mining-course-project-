{
 "cells": [
  {
   "cell_type": "code",
   "execution_count": 1,
   "metadata": {
    "pycharm": {}
   },
   "outputs": [],
   "source": [
    "import pandas as pd\n",
    "from tqdm import tqdm_notebook as tqdm\n",
    "import os\n",
    "import numpy as np\n",
    "\n",
    "os.chdir('../..')\n",
    "\n",
    "from src.utils import *\n",
    "from src.utility import merge_speed_events"
   ]
  },
  {
   "cell_type": "code",
   "execution_count": null,
   "metadata": {
    "pycharm": {}
   },
   "outputs": [],
   "source": [
    "speeds_df = pd.read_csv(resources_path('dataset', 'preprocessed', 'speeds_train_imputed_time.csv.gz'))\n",
    "events_df = pd.read_csv(resources_path('dataset', 'preprocessed', 'events_train.csv.gz'))\n",
    "sensors_df = pd.read_csv(resources_path('dataset', 'originals', 'sensors.csv.gz'))\n",
    "speeds_df.shape"
   ]
  },
  {
   "cell_type": "code",
   "execution_count": null,
   "metadata": {
    "pycharm": {}
   },
   "outputs": [],
   "source": [
    "speeds_df.dropna(inplace=True)\n",
    "speeds_df.shape"
   ]
  },
  {
   "cell_type": "code",
   "execution_count": null,
   "metadata": {
    "pycharm": {}
   },
   "outputs": [],
   "source": [
    "speeds_events_df = merge_speed_events(speeds_df, events_df)\n",
    "speeds_events_df.shape"
   ]
  },
  {
   "cell_type": "code",
   "execution_count": null,
   "metadata": {
    "pycharm": {}
   },
   "outputs": [],
   "source": [
    "speeds_events_df = pd.merge(speeds_events_df, sensors_df, left_on=[KEY, KM], right_on=[KEY, KM], how='left')\n",
    "speeds_events_df = speeds_events_df[[KEY, KM, DATETIME, SPEED_AVG, N_CARS, 'IMPUTED', EVENT_TYPE, KM_END, KM_START, 'KM_EVENT', 'step_duration', ROAD_TYPE, LANES, 'EMERGENCY_LANE']]\n",
    "speeds_events_df.head(4)"
   ]
  },
  {
   "cell_type": "code",
   "execution_count": null,
   "metadata": {
    "pycharm": {}
   },
   "outputs": [],
   "source": [
    "idx = speeds_events_df['KM_EVENT'].isnull()\n",
    "speeds_events_df.loc[idx, 'KM_EVENT'] = speeds_events_df.loc[idx, 'KM_START'] + (speeds_events_df.loc[idx, 'KM_END'] - speeds_events_df.loc[idx, 'KM_START'])/2\n",
    "speeds_events_df.head(4)"
   ]
  },
  {
   "cell_type": "code",
   "execution_count": null,
   "metadata": {
    "pycharm": {}
   },
   "outputs": [],
   "source": [
    "speeds_events_df['DISTANCE'] = speeds_events_df['KM_EVENT'] - speeds_events_df[KM]\n",
    "speeds_events_df = speeds_events_df[[KEY, KM, DATETIME, SPEED_AVG, N_CARS, 'IMPUTED', EVENT_TYPE, 'DISTANCE', 'step_duration']]\n",
    "speeds_events_df.head(4)"
   ]
  },
  {
   "cell_type": "code",
   "execution_count": null,
   "metadata": {
    "pycharm": {}
   },
   "outputs": [],
   "source": [
    "min_time = pd.to_datetime(speeds_events_df.DATETIME_UTC).astype('int').min()\n",
    "min_time = (min_time//(10**9))//60\n",
    "# speeds_events_df[DATETIME] = ((pd.to_datetime(speeds_events_df.DATETIME_UTC).astype('int')//(10**9))//60 - min_time)//15\n",
    "speeds_events_df.head(4)"
   ]
  },
  {
   "cell_type": "code",
   "execution_count": null,
   "metadata": {
    "pycharm": {}
   },
   "outputs": [],
   "source": [
    "speeds_events_df[EVENT_TYPE] = speeds_events_df.EVENT_TYPE.fillna('no_event')\n",
    "speeds_events_df[DISTANCE] = speeds_events_df.DISTANCE.fillna(0)\n",
    "speeds_events_df['step_duration'] = speeds_events_df.step_duration.fillna(0)\n",
    "speeds_events_df.sort_values(DATETIME).head()"
   ]
  },
  {
   "cell_type": "code",
   "execution_count": null,
   "metadata": {
    "pycharm": {}
   },
   "outputs": [],
   "source": [
    "speeds_events_onehot_df = pd.concat([speeds_events_df, pd.get_dummies(speeds_events_df[EVENT_TYPE])], axis=1)"
   ]
  },
  {
   "cell_type": "code",
   "execution_count": null,
   "metadata": {
    "pycharm": {}
   },
   "outputs": [],
   "source": [
    "speeds_events_onehot_df.drop('EVENT_TYPE', axis=1, inplace=True)\n",
    "speeds_events_onehot_df.head(4)"
   ]
  },
  {
   "cell_type": "code",
   "execution_count": null,
   "metadata": {},
   "outputs": [],
   "source": [
    "final_df = speeds_events_onehot_df.groupby([KEY, KM, DATETIME, SPEED_AVG, N_CARS, 'IMPUTED', 'DISTANCE', 'step_duration']).sum().reset_index()\n",
    "final_df[final_df[DISTANCE] > 0.0].head(10)"
   ]
  },
  {
   "cell_type": "code",
   "execution_count": null,
   "metadata": {},
   "outputs": [],
   "source": [
    "final_df.drop_duplicates([KEY, KM, DATETIME], inplace=True)\n",
    "final_df.shape"
   ]
  },
  {
   "cell_type": "code",
   "execution_count": null,
   "metadata": {
    "pycharm": {}
   },
   "outputs": [],
   "source": [
    "final_df.sort_values([KEY, KM, DATETIME], inplace=True)\n",
    "final_df = final_df.loc[:, ~final_df.columns.str.contains('^Unnamed')]\n",
    "final_df.to_csv(resources_path('dataset', 'training', 'train_2.csv.gz'))"
   ]
  },
  {
   "cell_type": "markdown",
   "metadata": {},
   "source": [
    "## Fitting some models"
   ]
  },
  {
   "cell_type": "code",
   "execution_count": 3,
   "metadata": {},
   "outputs": [],
   "source": [
    "import statsmodels.api as sm\n",
    "import matplotlib.pyplot as plt"
   ]
  },
  {
   "cell_type": "code",
   "execution_count": 31,
   "metadata": {},
   "outputs": [
    {
     "data": {
      "text/html": [
       "<div>\n",
       "<style scoped>\n",
       "    .dataframe tbody tr th:only-of-type {\n",
       "        vertical-align: middle;\n",
       "    }\n",
       "\n",
       "    .dataframe tbody tr th {\n",
       "        vertical-align: top;\n",
       "    }\n",
       "\n",
       "    .dataframe thead th {\n",
       "        text-align: right;\n",
       "    }\n",
       "</style>\n",
       "<table border=\"1\" class=\"dataframe\">\n",
       "  <thead>\n",
       "    <tr style=\"text-align: right;\">\n",
       "      <th></th>\n",
       "      <th>Unnamed: 0</th>\n",
       "      <th>KEY</th>\n",
       "      <th>KM</th>\n",
       "      <th>DATETIME_UTC</th>\n",
       "      <th>SPEED_AVG</th>\n",
       "      <th>N_VEHICLES</th>\n",
       "      <th>IMPUTED</th>\n",
       "      <th>DISTANCE</th>\n",
       "      <th>step_duration</th>\n",
       "      <th>Allarme</th>\n",
       "      <th>...</th>\n",
       "      <th>Meteo</th>\n",
       "      <th>Opera_arte</th>\n",
       "      <th>Ostacolo_in_carreggiata</th>\n",
       "      <th>Pavimentazione</th>\n",
       "      <th>Regimazione_delle_acque</th>\n",
       "      <th>Segnaletica_orizzontale</th>\n",
       "      <th>Segnaletica_verticale</th>\n",
       "      <th>Veicolo_in_avaria</th>\n",
       "      <th>extended_accident</th>\n",
       "      <th>no_event</th>\n",
       "    </tr>\n",
       "  </thead>\n",
       "  <tbody>\n",
       "    <tr>\n",
       "      <th>0</th>\n",
       "      <td>0</td>\n",
       "      <td>0.0</td>\n",
       "      <td>333</td>\n",
       "      <td>2018-09-01 00:00:00</td>\n",
       "      <td>231.125907</td>\n",
       "      <td>150.0</td>\n",
       "      <td>False</td>\n",
       "      <td>0.0</td>\n",
       "      <td>0.0</td>\n",
       "      <td>0</td>\n",
       "      <td>...</td>\n",
       "      <td>0</td>\n",
       "      <td>0</td>\n",
       "      <td>0</td>\n",
       "      <td>0</td>\n",
       "      <td>0</td>\n",
       "      <td>0</td>\n",
       "      <td>0</td>\n",
       "      <td>0</td>\n",
       "      <td>0</td>\n",
       "      <td>2</td>\n",
       "    </tr>\n",
       "    <tr>\n",
       "      <th>1</th>\n",
       "      <td>1</td>\n",
       "      <td>0.0</td>\n",
       "      <td>333</td>\n",
       "      <td>2018-09-01 00:15:00</td>\n",
       "      <td>225.915947</td>\n",
       "      <td>225.0</td>\n",
       "      <td>False</td>\n",
       "      <td>0.0</td>\n",
       "      <td>0.0</td>\n",
       "      <td>0</td>\n",
       "      <td>...</td>\n",
       "      <td>0</td>\n",
       "      <td>0</td>\n",
       "      <td>0</td>\n",
       "      <td>0</td>\n",
       "      <td>0</td>\n",
       "      <td>0</td>\n",
       "      <td>0</td>\n",
       "      <td>0</td>\n",
       "      <td>0</td>\n",
       "      <td>2</td>\n",
       "    </tr>\n",
       "    <tr>\n",
       "      <th>2</th>\n",
       "      <td>2</td>\n",
       "      <td>0.0</td>\n",
       "      <td>333</td>\n",
       "      <td>2018-09-01 00:30:00</td>\n",
       "      <td>228.498770</td>\n",
       "      <td>148.0</td>\n",
       "      <td>False</td>\n",
       "      <td>0.0</td>\n",
       "      <td>0.0</td>\n",
       "      <td>0</td>\n",
       "      <td>...</td>\n",
       "      <td>0</td>\n",
       "      <td>0</td>\n",
       "      <td>0</td>\n",
       "      <td>0</td>\n",
       "      <td>0</td>\n",
       "      <td>0</td>\n",
       "      <td>0</td>\n",
       "      <td>0</td>\n",
       "      <td>0</td>\n",
       "      <td>2</td>\n",
       "    </tr>\n",
       "    <tr>\n",
       "      <th>3</th>\n",
       "      <td>3</td>\n",
       "      <td>0.0</td>\n",
       "      <td>333</td>\n",
       "      <td>2018-09-01 00:45:00</td>\n",
       "      <td>231.562904</td>\n",
       "      <td>197.0</td>\n",
       "      <td>False</td>\n",
       "      <td>0.0</td>\n",
       "      <td>0.0</td>\n",
       "      <td>0</td>\n",
       "      <td>...</td>\n",
       "      <td>0</td>\n",
       "      <td>0</td>\n",
       "      <td>0</td>\n",
       "      <td>0</td>\n",
       "      <td>0</td>\n",
       "      <td>0</td>\n",
       "      <td>0</td>\n",
       "      <td>0</td>\n",
       "      <td>0</td>\n",
       "      <td>2</td>\n",
       "    </tr>\n",
       "    <tr>\n",
       "      <th>4</th>\n",
       "      <td>4</td>\n",
       "      <td>0.0</td>\n",
       "      <td>333</td>\n",
       "      <td>2018-09-01 01:00:00</td>\n",
       "      <td>229.282707</td>\n",
       "      <td>147.0</td>\n",
       "      <td>False</td>\n",
       "      <td>0.0</td>\n",
       "      <td>0.0</td>\n",
       "      <td>0</td>\n",
       "      <td>...</td>\n",
       "      <td>0</td>\n",
       "      <td>0</td>\n",
       "      <td>0</td>\n",
       "      <td>0</td>\n",
       "      <td>0</td>\n",
       "      <td>0</td>\n",
       "      <td>0</td>\n",
       "      <td>0</td>\n",
       "      <td>0</td>\n",
       "      <td>2</td>\n",
       "    </tr>\n",
       "  </tbody>\n",
       "</table>\n",
       "<p>5 rows × 25 columns</p>\n",
       "</div>"
      ],
      "text/plain": [
       "   Unnamed: 0  KEY   KM         DATETIME_UTC   SPEED_AVG  N_VEHICLES  IMPUTED  \\\n",
       "0           0  0.0  333  2018-09-01 00:00:00  231.125907       150.0    False   \n",
       "1           1  0.0  333  2018-09-01 00:15:00  225.915947       225.0    False   \n",
       "2           2  0.0  333  2018-09-01 00:30:00  228.498770       148.0    False   \n",
       "3           3  0.0  333  2018-09-01 00:45:00  231.562904       197.0    False   \n",
       "4           4  0.0  333  2018-09-01 01:00:00  229.282707       147.0    False   \n",
       "\n",
       "   DISTANCE  step_duration  Allarme  ...  Meteo  Opera_arte  \\\n",
       "0       0.0            0.0        0  ...      0           0   \n",
       "1       0.0            0.0        0  ...      0           0   \n",
       "2       0.0            0.0        0  ...      0           0   \n",
       "3       0.0            0.0        0  ...      0           0   \n",
       "4       0.0            0.0        0  ...      0           0   \n",
       "\n",
       "   Ostacolo_in_carreggiata  Pavimentazione  Regimazione_delle_acque  \\\n",
       "0                        0               0                        0   \n",
       "1                        0               0                        0   \n",
       "2                        0               0                        0   \n",
       "3                        0               0                        0   \n",
       "4                        0               0                        0   \n",
       "\n",
       "   Segnaletica_orizzontale  Segnaletica_verticale  Veicolo_in_avaria  \\\n",
       "0                        0                      0                  0   \n",
       "1                        0                      0                  0   \n",
       "2                        0                      0                  0   \n",
       "3                        0                      0                  0   \n",
       "4                        0                      0                  0   \n",
       "\n",
       "   extended_accident  no_event  \n",
       "0                  0         2  \n",
       "1                  0         2  \n",
       "2                  0         2  \n",
       "3                  0         2  \n",
       "4                  0         2  \n",
       "\n",
       "[5 rows x 25 columns]"
      ]
     },
     "execution_count": 31,
     "metadata": {},
     "output_type": "execute_result"
    }
   ],
   "source": [
    "df = pd.read_csv(resources_path('dataset', 'training', 'train_2.csv.gz'))\n",
    "sensors_df = pd.read_csv(resources_path('dataset', 'originals', 'sensors.csv.gz'))\n",
    "df.head(5)"
   ]
  },
  {
   "cell_type": "code",
   "execution_count": 32,
   "metadata": {},
   "outputs": [
    {
     "data": {
      "text/html": [
       "<div>\n",
       "<style scoped>\n",
       "    .dataframe tbody tr th:only-of-type {\n",
       "        vertical-align: middle;\n",
       "    }\n",
       "\n",
       "    .dataframe tbody tr th {\n",
       "        vertical-align: top;\n",
       "    }\n",
       "\n",
       "    .dataframe thead th {\n",
       "        text-align: right;\n",
       "    }\n",
       "</style>\n",
       "<table border=\"1\" class=\"dataframe\">\n",
       "  <thead>\n",
       "    <tr style=\"text-align: right;\">\n",
       "      <th></th>\n",
       "      <th>KEY</th>\n",
       "      <th>EMERGENCY_LANE</th>\n",
       "      <th>KM</th>\n",
       "      <th>LANES</th>\n",
       "      <th>ROAD_TYPE</th>\n",
       "    </tr>\n",
       "  </thead>\n",
       "  <tbody>\n",
       "    <tr>\n",
       "      <th>0</th>\n",
       "      <td>44.0</td>\n",
       "      <td>0</td>\n",
       "      <td>1410</td>\n",
       "      <td>2</td>\n",
       "      <td>0</td>\n",
       "    </tr>\n",
       "    <tr>\n",
       "      <th>1</th>\n",
       "      <td>146.0</td>\n",
       "      <td>0</td>\n",
       "      <td>1473</td>\n",
       "      <td>2</td>\n",
       "      <td>0</td>\n",
       "    </tr>\n",
       "    <tr>\n",
       "      <th>2</th>\n",
       "      <td>53.0</td>\n",
       "      <td>0</td>\n",
       "      <td>1421</td>\n",
       "      <td>2</td>\n",
       "      <td>0</td>\n",
       "    </tr>\n",
       "    <tr>\n",
       "      <th>3</th>\n",
       "      <td>122.0</td>\n",
       "      <td>0</td>\n",
       "      <td>679</td>\n",
       "      <td>2</td>\n",
       "      <td>0</td>\n",
       "    </tr>\n",
       "    <tr>\n",
       "      <th>4</th>\n",
       "      <td>17.0</td>\n",
       "      <td>1</td>\n",
       "      <td>1399</td>\n",
       "      <td>3</td>\n",
       "      <td>1</td>\n",
       "    </tr>\n",
       "  </tbody>\n",
       "</table>\n",
       "</div>"
      ],
      "text/plain": [
       "     KEY  EMERGENCY_LANE    KM  LANES  ROAD_TYPE\n",
       "0   44.0               0  1410      2          0\n",
       "1  146.0               0  1473      2          0\n",
       "2   53.0               0  1421      2          0\n",
       "3  122.0               0   679      2          0\n",
       "4   17.0               1  1399      3          1"
      ]
     },
     "execution_count": 32,
     "metadata": {},
     "output_type": "execute_result"
    }
   ],
   "source": [
    "sensors_df.head(5)"
   ]
  },
  {
   "cell_type": "code",
   "execution_count": 33,
   "metadata": {},
   "outputs": [
    {
     "data": {
      "text/html": [
       "<div>\n",
       "<style scoped>\n",
       "    .dataframe tbody tr th:only-of-type {\n",
       "        vertical-align: middle;\n",
       "    }\n",
       "\n",
       "    .dataframe tbody tr th {\n",
       "        vertical-align: top;\n",
       "    }\n",
       "\n",
       "    .dataframe thead th {\n",
       "        text-align: right;\n",
       "    }\n",
       "</style>\n",
       "<table border=\"1\" class=\"dataframe\">\n",
       "  <thead>\n",
       "    <tr style=\"text-align: right;\">\n",
       "      <th></th>\n",
       "      <th>Unnamed: 0</th>\n",
       "      <th>KEY</th>\n",
       "      <th>KM</th>\n",
       "      <th>DATETIME_UTC</th>\n",
       "      <th>SPEED_AVG</th>\n",
       "      <th>N_VEHICLES</th>\n",
       "      <th>IMPUTED</th>\n",
       "      <th>DISTANCE</th>\n",
       "      <th>step_duration</th>\n",
       "      <th>Allarme</th>\n",
       "      <th>...</th>\n",
       "      <th>Meteo</th>\n",
       "      <th>Opera_arte</th>\n",
       "      <th>Ostacolo_in_carreggiata</th>\n",
       "      <th>Pavimentazione</th>\n",
       "      <th>Regimazione_delle_acque</th>\n",
       "      <th>Segnaletica_orizzontale</th>\n",
       "      <th>Segnaletica_verticale</th>\n",
       "      <th>Veicolo_in_avaria</th>\n",
       "      <th>extended_accident</th>\n",
       "      <th>no_event</th>\n",
       "    </tr>\n",
       "  </thead>\n",
       "  <tbody>\n",
       "    <tr>\n",
       "      <th>0</th>\n",
       "      <td>0</td>\n",
       "      <td>0.0</td>\n",
       "      <td>333</td>\n",
       "      <td>2018-09-01 00:00:00</td>\n",
       "      <td>231.125907</td>\n",
       "      <td>150.0</td>\n",
       "      <td>False</td>\n",
       "      <td>0.0</td>\n",
       "      <td>0.0</td>\n",
       "      <td>0</td>\n",
       "      <td>...</td>\n",
       "      <td>0</td>\n",
       "      <td>0</td>\n",
       "      <td>0</td>\n",
       "      <td>0</td>\n",
       "      <td>0</td>\n",
       "      <td>0</td>\n",
       "      <td>0</td>\n",
       "      <td>0</td>\n",
       "      <td>0</td>\n",
       "      <td>2</td>\n",
       "    </tr>\n",
       "    <tr>\n",
       "      <th>1</th>\n",
       "      <td>1</td>\n",
       "      <td>0.0</td>\n",
       "      <td>333</td>\n",
       "      <td>2018-09-01 00:15:00</td>\n",
       "      <td>225.915947</td>\n",
       "      <td>225.0</td>\n",
       "      <td>False</td>\n",
       "      <td>0.0</td>\n",
       "      <td>0.0</td>\n",
       "      <td>0</td>\n",
       "      <td>...</td>\n",
       "      <td>0</td>\n",
       "      <td>0</td>\n",
       "      <td>0</td>\n",
       "      <td>0</td>\n",
       "      <td>0</td>\n",
       "      <td>0</td>\n",
       "      <td>0</td>\n",
       "      <td>0</td>\n",
       "      <td>0</td>\n",
       "      <td>2</td>\n",
       "    </tr>\n",
       "    <tr>\n",
       "      <th>2</th>\n",
       "      <td>2</td>\n",
       "      <td>0.0</td>\n",
       "      <td>333</td>\n",
       "      <td>2018-09-01 00:30:00</td>\n",
       "      <td>228.498770</td>\n",
       "      <td>148.0</td>\n",
       "      <td>False</td>\n",
       "      <td>0.0</td>\n",
       "      <td>0.0</td>\n",
       "      <td>0</td>\n",
       "      <td>...</td>\n",
       "      <td>0</td>\n",
       "      <td>0</td>\n",
       "      <td>0</td>\n",
       "      <td>0</td>\n",
       "      <td>0</td>\n",
       "      <td>0</td>\n",
       "      <td>0</td>\n",
       "      <td>0</td>\n",
       "      <td>0</td>\n",
       "      <td>2</td>\n",
       "    </tr>\n",
       "    <tr>\n",
       "      <th>3</th>\n",
       "      <td>3</td>\n",
       "      <td>0.0</td>\n",
       "      <td>333</td>\n",
       "      <td>2018-09-01 00:45:00</td>\n",
       "      <td>231.562904</td>\n",
       "      <td>197.0</td>\n",
       "      <td>False</td>\n",
       "      <td>0.0</td>\n",
       "      <td>0.0</td>\n",
       "      <td>0</td>\n",
       "      <td>...</td>\n",
       "      <td>0</td>\n",
       "      <td>0</td>\n",
       "      <td>0</td>\n",
       "      <td>0</td>\n",
       "      <td>0</td>\n",
       "      <td>0</td>\n",
       "      <td>0</td>\n",
       "      <td>0</td>\n",
       "      <td>0</td>\n",
       "      <td>2</td>\n",
       "    </tr>\n",
       "    <tr>\n",
       "      <th>4</th>\n",
       "      <td>4</td>\n",
       "      <td>0.0</td>\n",
       "      <td>333</td>\n",
       "      <td>2018-09-01 01:00:00</td>\n",
       "      <td>229.282707</td>\n",
       "      <td>147.0</td>\n",
       "      <td>False</td>\n",
       "      <td>0.0</td>\n",
       "      <td>0.0</td>\n",
       "      <td>0</td>\n",
       "      <td>...</td>\n",
       "      <td>0</td>\n",
       "      <td>0</td>\n",
       "      <td>0</td>\n",
       "      <td>0</td>\n",
       "      <td>0</td>\n",
       "      <td>0</td>\n",
       "      <td>0</td>\n",
       "      <td>0</td>\n",
       "      <td>0</td>\n",
       "      <td>2</td>\n",
       "    </tr>\n",
       "  </tbody>\n",
       "</table>\n",
       "<p>5 rows × 25 columns</p>\n",
       "</div>"
      ],
      "text/plain": [
       "   Unnamed: 0  KEY   KM         DATETIME_UTC   SPEED_AVG  N_VEHICLES  IMPUTED  \\\n",
       "0           0  0.0  333  2018-09-01 00:00:00  231.125907       150.0    False   \n",
       "1           1  0.0  333  2018-09-01 00:15:00  225.915947       225.0    False   \n",
       "2           2  0.0  333  2018-09-01 00:30:00  228.498770       148.0    False   \n",
       "3           3  0.0  333  2018-09-01 00:45:00  231.562904       197.0    False   \n",
       "4           4  0.0  333  2018-09-01 01:00:00  229.282707       147.0    False   \n",
       "\n",
       "   DISTANCE  step_duration  Allarme  ...  Meteo  Opera_arte  \\\n",
       "0       0.0            0.0        0  ...      0           0   \n",
       "1       0.0            0.0        0  ...      0           0   \n",
       "2       0.0            0.0        0  ...      0           0   \n",
       "3       0.0            0.0        0  ...      0           0   \n",
       "4       0.0            0.0        0  ...      0           0   \n",
       "\n",
       "   Ostacolo_in_carreggiata  Pavimentazione  Regimazione_delle_acque  \\\n",
       "0                        0               0                        0   \n",
       "1                        0               0                        0   \n",
       "2                        0               0                        0   \n",
       "3                        0               0                        0   \n",
       "4                        0               0                        0   \n",
       "\n",
       "   Segnaletica_orizzontale  Segnaletica_verticale  Veicolo_in_avaria  \\\n",
       "0                        0                      0                  0   \n",
       "1                        0                      0                  0   \n",
       "2                        0                      0                  0   \n",
       "3                        0                      0                  0   \n",
       "4                        0                      0                  0   \n",
       "\n",
       "   extended_accident  no_event  \n",
       "0                  0         2  \n",
       "1                  0         2  \n",
       "2                  0         2  \n",
       "3                  0         2  \n",
       "4                  0         2  \n",
       "\n",
       "[5 rows x 25 columns]"
      ]
     },
     "execution_count": 33,
     "metadata": {},
     "output_type": "execute_result"
    }
   ],
   "source": [
    "df_1 = df[(df[KEY] == 0) & (df[KM] == 333)]\n",
    "df_1.sort_values(DATETIME).head(5)"
   ]
  },
  {
   "cell_type": "code",
   "execution_count": 34,
   "metadata": {},
   "outputs": [
    {
     "data": {
      "text/plain": [
       "(8073, 25)"
      ]
     },
     "execution_count": 34,
     "metadata": {},
     "output_type": "execute_result"
    }
   ],
   "source": [
    "df_1.shape"
   ]
  },
  {
   "cell_type": "code",
   "execution_count": 35,
   "metadata": {},
   "outputs": [
    {
     "ename": "AttributeError",
     "evalue": "'Series' object has no attribute 'set_index'",
     "output_type": "error",
     "traceback": [
      "\u001b[0;31m---------------------------------------------------------------------------\u001b[0m",
      "\u001b[0;31mAttributeError\u001b[0m                            Traceback (most recent call last)",
      "\u001b[0;32m<ipython-input-35-2d989cf25b5a>\u001b[0m in \u001b[0;36m<module>\u001b[0;34m\u001b[0m\n\u001b[1;32m      3\u001b[0m \u001b[0mu\u001b[0m \u001b[0;34m=\u001b[0m \u001b[0mu\u001b[0m\u001b[0;34m.\u001b[0m\u001b[0mloc\u001b[0m\u001b[0;34m[\u001b[0m\u001b[0;34m:\u001b[0m\u001b[0;34m,\u001b[0m \u001b[0;34m~\u001b[0m\u001b[0mu\u001b[0m\u001b[0;34m.\u001b[0m\u001b[0mcolumns\u001b[0m\u001b[0;34m.\u001b[0m\u001b[0mstr\u001b[0m\u001b[0;34m.\u001b[0m\u001b[0mcontains\u001b[0m\u001b[0;34m(\u001b[0m\u001b[0;34m'^Unnamed'\u001b[0m\u001b[0;34m)\u001b[0m\u001b[0;34m]\u001b[0m\u001b[0;34m\u001b[0m\u001b[0;34m\u001b[0m\u001b[0m\n\u001b[1;32m      4\u001b[0m \u001b[0mu\u001b[0m \u001b[0;34m=\u001b[0m \u001b[0mdf_1\u001b[0m\u001b[0;34m.\u001b[0m\u001b[0mN_VEHICLES\u001b[0m\u001b[0;34m\u001b[0m\u001b[0;34m\u001b[0m\u001b[0m\n\u001b[0;32m----> 5\u001b[0;31m \u001b[0mu\u001b[0m\u001b[0;34m.\u001b[0m\u001b[0mset_index\u001b[0m\u001b[0;34m(\u001b[0m\u001b[0mDATETIME\u001b[0m\u001b[0;34m,\u001b[0m \u001b[0minplace\u001b[0m\u001b[0;34m=\u001b[0m\u001b[0;32mTrue\u001b[0m\u001b[0;34m)\u001b[0m\u001b[0;34m\u001b[0m\u001b[0;34m\u001b[0m\u001b[0m\n\u001b[0m\u001b[1;32m      6\u001b[0m \u001b[0mu\u001b[0m\u001b[0;34m.\u001b[0m\u001b[0mhead\u001b[0m\u001b[0;34m(\u001b[0m\u001b[0;36m10\u001b[0m\u001b[0;34m)\u001b[0m\u001b[0;34m\u001b[0m\u001b[0;34m\u001b[0m\u001b[0m\n",
      "\u001b[0;32m/opt/conda/lib/python3.7/site-packages/pandas/core/generic.py\u001b[0m in \u001b[0;36m__getattr__\u001b[0;34m(self, name)\u001b[0m\n\u001b[1;32m   5065\u001b[0m             \u001b[0;32mif\u001b[0m \u001b[0mself\u001b[0m\u001b[0;34m.\u001b[0m\u001b[0m_info_axis\u001b[0m\u001b[0;34m.\u001b[0m\u001b[0m_can_hold_identifiers_and_holds_name\u001b[0m\u001b[0;34m(\u001b[0m\u001b[0mname\u001b[0m\u001b[0;34m)\u001b[0m\u001b[0;34m:\u001b[0m\u001b[0;34m\u001b[0m\u001b[0;34m\u001b[0m\u001b[0m\n\u001b[1;32m   5066\u001b[0m                 \u001b[0;32mreturn\u001b[0m \u001b[0mself\u001b[0m\u001b[0;34m[\u001b[0m\u001b[0mname\u001b[0m\u001b[0;34m]\u001b[0m\u001b[0;34m\u001b[0m\u001b[0;34m\u001b[0m\u001b[0m\n\u001b[0;32m-> 5067\u001b[0;31m             \u001b[0;32mreturn\u001b[0m \u001b[0mobject\u001b[0m\u001b[0;34m.\u001b[0m\u001b[0m__getattribute__\u001b[0m\u001b[0;34m(\u001b[0m\u001b[0mself\u001b[0m\u001b[0;34m,\u001b[0m \u001b[0mname\u001b[0m\u001b[0;34m)\u001b[0m\u001b[0;34m\u001b[0m\u001b[0;34m\u001b[0m\u001b[0m\n\u001b[0m\u001b[1;32m   5068\u001b[0m \u001b[0;34m\u001b[0m\u001b[0m\n\u001b[1;32m   5069\u001b[0m     \u001b[0;32mdef\u001b[0m \u001b[0m__setattr__\u001b[0m\u001b[0;34m(\u001b[0m\u001b[0mself\u001b[0m\u001b[0;34m,\u001b[0m \u001b[0mname\u001b[0m\u001b[0;34m,\u001b[0m \u001b[0mvalue\u001b[0m\u001b[0;34m)\u001b[0m\u001b[0;34m:\u001b[0m\u001b[0;34m\u001b[0m\u001b[0;34m\u001b[0m\u001b[0m\n",
      "\u001b[0;31mAttributeError\u001b[0m: 'Series' object has no attribute 'set_index'"
     ]
    }
   ],
   "source": [
    "y = df_1[[DATETIME, SPEED_AVG]].set_index(DATETIME)\n",
    "u = df_1.drop([KEY, KM, SPEED_AVG, 'IMPUTED'], axis=1)\n",
    "u = u.loc[:, ~u.columns.str.contains('^Unnamed')]\n",
    "u = df_1.N_VEHICLES\n",
    "u.set_index(DATETIME, inplace=True)\n",
    "u.head(10)"
   ]
  },
  {
   "cell_type": "code",
   "execution_count": 37,
   "metadata": {},
   "outputs": [
    {
     "data": {
      "text/html": [
       "<div>\n",
       "<style scoped>\n",
       "    .dataframe tbody tr th:only-of-type {\n",
       "        vertical-align: middle;\n",
       "    }\n",
       "\n",
       "    .dataframe tbody tr th {\n",
       "        vertical-align: top;\n",
       "    }\n",
       "\n",
       "    .dataframe thead th {\n",
       "        text-align: right;\n",
       "    }\n",
       "</style>\n",
       "<table border=\"1\" class=\"dataframe\">\n",
       "  <thead>\n",
       "    <tr style=\"text-align: right;\">\n",
       "      <th></th>\n",
       "      <th>SPEED_AVG</th>\n",
       "    </tr>\n",
       "    <tr>\n",
       "      <th>DATETIME_UTC</th>\n",
       "      <th></th>\n",
       "    </tr>\n",
       "  </thead>\n",
       "  <tbody>\n",
       "    <tr>\n",
       "      <th>2018-09-01 00:00:00</th>\n",
       "      <td>231.125907</td>\n",
       "    </tr>\n",
       "    <tr>\n",
       "      <th>2018-09-01 00:15:00</th>\n",
       "      <td>225.915947</td>\n",
       "    </tr>\n",
       "    <tr>\n",
       "      <th>2018-09-01 00:30:00</th>\n",
       "      <td>228.498770</td>\n",
       "    </tr>\n",
       "    <tr>\n",
       "      <th>2018-09-01 00:45:00</th>\n",
       "      <td>231.562904</td>\n",
       "    </tr>\n",
       "    <tr>\n",
       "      <th>2018-09-01 01:00:00</th>\n",
       "      <td>229.282707</td>\n",
       "    </tr>\n",
       "  </tbody>\n",
       "</table>\n",
       "</div>"
      ],
      "text/plain": [
       "                      SPEED_AVG\n",
       "DATETIME_UTC                   \n",
       "2018-09-01 00:00:00  231.125907\n",
       "2018-09-01 00:15:00  225.915947\n",
       "2018-09-01 00:30:00  228.498770\n",
       "2018-09-01 00:45:00  231.562904\n",
       "2018-09-01 01:00:00  229.282707"
      ]
     },
     "execution_count": 37,
     "metadata": {},
     "output_type": "execute_result"
    }
   ],
   "source": [
    "y.head()"
   ]
  },
  {
   "cell_type": "code",
   "execution_count": 40,
   "metadata": {},
   "outputs": [
    {
     "name": "stdout",
     "output_type": "stream",
     "text": [
      "(8073, 1)\n",
      "(8073,)\n"
     ]
    }
   ],
   "source": [
    "u = np.array(u)\n",
    "print(y.shape)\n",
    "print(u.shape)\n",
    "y_train = y[0:7000]\n",
    "u = u[0:7000]\n",
    "u_test = u[7000:]\n",
    "y_test = y[7000:]"
   ]
  },
  {
   "cell_type": "code",
   "execution_count": 41,
   "metadata": {},
   "outputs": [
    {
     "name": "stderr",
     "output_type": "stream",
     "text": [
      "/opt/conda/lib/python3.7/site-packages/statsmodels/tsa/base/tsa_model.py:225: ValueWarning: A date index has been provided, but it has no associated frequency information and so will be ignored when e.g. forecasting.\n",
      "  ' ignored when e.g. forecasting.', ValueWarning)\n"
     ]
    }
   ],
   "source": [
    "armax = sm.tsa.ARMA(y_train, exog=u, order=(16, 8))"
   ]
  },
  {
   "cell_type": "code",
   "execution_count": 42,
   "metadata": {},
   "outputs": [
    {
     "name": "stderr",
     "output_type": "stream",
     "text": [
      "/opt/conda/lib/python3.7/site-packages/statsmodels/base/model.py:488: HessianInversionWarning: Inverting hessian failed, no bse or cov_params available\n",
      "  'available', HessianInversionWarning)\n",
      "/opt/conda/lib/python3.7/site-packages/statsmodels/base/model.py:508: ConvergenceWarning: Maximum Likelihood optimization failed to converge. Check mle_retvals\n",
      "  \"Check mle_retvals\", ConvergenceWarning)\n"
     ]
    }
   ],
   "source": [
    "results_model = armax.fit(trend='nc', method='mle', maxiter=5)"
   ]
  },
  {
   "cell_type": "code",
   "execution_count": 43,
   "metadata": {},
   "outputs": [
    {
     "name": "stderr",
     "output_type": "stream",
     "text": [
      "/opt/conda/lib/python3.7/site-packages/statsmodels/tsa/arima_model.py:1455: RuntimeWarning: invalid value encountered in sqrt\n",
      "  return np.sqrt(np.diag(-inv(hess)))\n",
      "/opt/conda/lib/python3.7/site-packages/scipy/stats/_distn_infrastructure.py:877: RuntimeWarning: invalid value encountered in greater\n",
      "  return (self.a < x) & (x < self.b)\n",
      "/opt/conda/lib/python3.7/site-packages/scipy/stats/_distn_infrastructure.py:877: RuntimeWarning: invalid value encountered in less\n",
      "  return (self.a < x) & (x < self.b)\n",
      "/opt/conda/lib/python3.7/site-packages/scipy/stats/_distn_infrastructure.py:1831: RuntimeWarning: invalid value encountered in less_equal\n",
      "  cond2 = cond0 & (x <= self.a)\n"
     ]
    },
    {
     "data": {
      "text/html": [
       "<table class=\"simpletable\">\n",
       "<caption>ARMA Model Results</caption>\n",
       "<tr>\n",
       "  <th>Dep. Variable:</th>     <td>SPEED_AVG</td>    <th>  No. Observations:  </th>    <td>7000</td>   \n",
       "</tr>\n",
       "<tr>\n",
       "  <th>Model:</th>            <td>ARMA(16, 8)</td>   <th>  Log Likelihood     </th> <td>-27027.276</td>\n",
       "</tr>\n",
       "<tr>\n",
       "  <th>Method:</th>               <td>mle</td>       <th>  S.D. of innovations</th>   <td>11.494</td>  \n",
       "</tr>\n",
       "<tr>\n",
       "  <th>Date:</th>          <td>Tue, 28 May 2019</td> <th>  AIC                </th>  <td>54106.551</td>\n",
       "</tr>\n",
       "<tr>\n",
       "  <th>Time:</th>              <td>19:39:28</td>     <th>  BIC                </th>  <td>54284.747</td>\n",
       "</tr>\n",
       "<tr>\n",
       "  <th>Sample:</th>                <td>0</td>        <th>  HQIC               </th>  <td>54167.955</td>\n",
       "</tr>\n",
       "<tr>\n",
       "  <th></th>                       <td> </td>        <th>                     </th>      <td> </td>    \n",
       "</tr>\n",
       "</table>\n",
       "<table class=\"simpletable\">\n",
       "<tr>\n",
       "          <td></td>            <th>coef</th>     <th>std err</th>      <th>z</th>      <th>P>|z|</th>  <th>[0.025</th>    <th>0.975]</th>  \n",
       "</tr>\n",
       "<tr>\n",
       "  <th>x1</th>               <td>   -0.0505</td> <td>    0.002</td> <td>  -20.329</td> <td> 0.000</td> <td>   -0.055</td> <td>   -0.046</td>\n",
       "</tr>\n",
       "<tr>\n",
       "  <th>ar.L1.SPEED_AVG</th>  <td>    0.2223</td> <td>      nan</td> <td>      nan</td> <td>   nan</td> <td>      nan</td> <td>      nan</td>\n",
       "</tr>\n",
       "<tr>\n",
       "  <th>ar.L2.SPEED_AVG</th>  <td>    0.2413</td> <td>      nan</td> <td>      nan</td> <td>   nan</td> <td>      nan</td> <td>      nan</td>\n",
       "</tr>\n",
       "<tr>\n",
       "  <th>ar.L3.SPEED_AVG</th>  <td>    0.1763</td> <td>      nan</td> <td>      nan</td> <td>   nan</td> <td>      nan</td> <td>      nan</td>\n",
       "</tr>\n",
       "<tr>\n",
       "  <th>ar.L4.SPEED_AVG</th>  <td>    0.1407</td> <td>      nan</td> <td>      nan</td> <td>   nan</td> <td>      nan</td> <td>      nan</td>\n",
       "</tr>\n",
       "<tr>\n",
       "  <th>ar.L5.SPEED_AVG</th>  <td>    0.0620</td> <td>    0.091</td> <td>    0.682</td> <td> 0.496</td> <td>   -0.116</td> <td>    0.240</td>\n",
       "</tr>\n",
       "<tr>\n",
       "  <th>ar.L6.SPEED_AVG</th>  <td>    0.0281</td> <td>      nan</td> <td>      nan</td> <td>   nan</td> <td>      nan</td> <td>      nan</td>\n",
       "</tr>\n",
       "<tr>\n",
       "  <th>ar.L7.SPEED_AVG</th>  <td>    0.0025</td> <td>      nan</td> <td>      nan</td> <td>   nan</td> <td>      nan</td> <td>      nan</td>\n",
       "</tr>\n",
       "<tr>\n",
       "  <th>ar.L8.SPEED_AVG</th>  <td>   -0.0046</td> <td>    0.156</td> <td>   -0.029</td> <td> 0.977</td> <td>   -0.311</td> <td>    0.302</td>\n",
       "</tr>\n",
       "<tr>\n",
       "  <th>ar.L9.SPEED_AVG</th>  <td>    0.0084</td> <td>      nan</td> <td>      nan</td> <td>   nan</td> <td>      nan</td> <td>      nan</td>\n",
       "</tr>\n",
       "<tr>\n",
       "  <th>ar.L10.SPEED_AVG</th> <td>   -0.0161</td> <td>      nan</td> <td>      nan</td> <td>   nan</td> <td>      nan</td> <td>      nan</td>\n",
       "</tr>\n",
       "<tr>\n",
       "  <th>ar.L11.SPEED_AVG</th> <td>    0.0054</td> <td>      nan</td> <td>      nan</td> <td>   nan</td> <td>      nan</td> <td>      nan</td>\n",
       "</tr>\n",
       "<tr>\n",
       "  <th>ar.L12.SPEED_AVG</th> <td>   -0.0223</td> <td>      nan</td> <td>      nan</td> <td>   nan</td> <td>      nan</td> <td>      nan</td>\n",
       "</tr>\n",
       "<tr>\n",
       "  <th>ar.L13.SPEED_AVG</th> <td>    0.0218</td> <td>    0.015</td> <td>    1.474</td> <td> 0.141</td> <td>   -0.007</td> <td>    0.051</td>\n",
       "</tr>\n",
       "<tr>\n",
       "  <th>ar.L14.SPEED_AVG</th> <td>    0.0206</td> <td>    0.009</td> <td>    2.295</td> <td> 0.022</td> <td>    0.003</td> <td>    0.038</td>\n",
       "</tr>\n",
       "<tr>\n",
       "  <th>ar.L15.SPEED_AVG</th> <td>    0.0378</td> <td>    0.002</td> <td>   25.053</td> <td> 0.000</td> <td>    0.035</td> <td>    0.041</td>\n",
       "</tr>\n",
       "<tr>\n",
       "  <th>ar.L16.SPEED_AVG</th> <td>    0.0699</td> <td>    0.008</td> <td>    8.553</td> <td> 0.000</td> <td>    0.054</td> <td>    0.086</td>\n",
       "</tr>\n",
       "<tr>\n",
       "  <th>ma.L1.SPEED_AVG</th>  <td>    0.1682</td> <td>      nan</td> <td>      nan</td> <td>   nan</td> <td>      nan</td> <td>      nan</td>\n",
       "</tr>\n",
       "<tr>\n",
       "  <th>ma.L2.SPEED_AVG</th>  <td>    0.0603</td> <td>      nan</td> <td>      nan</td> <td>   nan</td> <td>      nan</td> <td>      nan</td>\n",
       "</tr>\n",
       "<tr>\n",
       "  <th>ma.L3.SPEED_AVG</th>  <td>    0.0152</td> <td>      nan</td> <td>      nan</td> <td>   nan</td> <td>      nan</td> <td>      nan</td>\n",
       "</tr>\n",
       "<tr>\n",
       "  <th>ma.L4.SPEED_AVG</th>  <td>    0.0349</td> <td>      nan</td> <td>      nan</td> <td>   nan</td> <td>      nan</td> <td>      nan</td>\n",
       "</tr>\n",
       "<tr>\n",
       "  <th>ma.L5.SPEED_AVG</th>  <td>    0.0329</td> <td>    0.076</td> <td>    0.432</td> <td> 0.666</td> <td>   -0.117</td> <td>    0.182</td>\n",
       "</tr>\n",
       "<tr>\n",
       "  <th>ma.L6.SPEED_AVG</th>  <td>    0.0180</td> <td>      nan</td> <td>      nan</td> <td>   nan</td> <td>      nan</td> <td>      nan</td>\n",
       "</tr>\n",
       "<tr>\n",
       "  <th>ma.L7.SPEED_AVG</th>  <td>    0.0317</td> <td>    0.038</td> <td>    0.829</td> <td> 0.407</td> <td>   -0.043</td> <td>    0.107</td>\n",
       "</tr>\n",
       "<tr>\n",
       "  <th>ma.L8.SPEED_AVG</th>  <td>    0.0330</td> <td>    0.068</td> <td>    0.489</td> <td> 0.625</td> <td>   -0.099</td> <td>    0.165</td>\n",
       "</tr>\n",
       "</table>\n",
       "<table class=\"simpletable\">\n",
       "<caption>Roots</caption>\n",
       "<tr>\n",
       "    <td></td>    <th>            Real</th>  <th>         Imaginary</th> <th>         Modulus</th>  <th>        Frequency</th>\n",
       "</tr>\n",
       "<tr>\n",
       "  <th>AR.1</th>  <td>           1.0014</td> <td>          -0.0000j</td> <td>           1.0014</td> <td>          -0.0000</td>\n",
       "</tr>\n",
       "<tr>\n",
       "  <th>AR.2</th>  <td>           1.0772</td> <td>          -0.3645j</td> <td>           1.1372</td> <td>          -0.0519</td>\n",
       "</tr>\n",
       "<tr>\n",
       "  <th>AR.3</th>  <td>           1.0772</td> <td>          +0.3645j</td> <td>           1.1372</td> <td>           0.0519</td>\n",
       "</tr>\n",
       "<tr>\n",
       "  <th>AR.4</th>  <td>           0.8277</td> <td>          -0.8409j</td> <td>           1.1800</td> <td>          -0.1263</td>\n",
       "</tr>\n",
       "<tr>\n",
       "  <th>AR.5</th>  <td>           0.8277</td> <td>          +0.8409j</td> <td>           1.1800</td> <td>           0.1263</td>\n",
       "</tr>\n",
       "<tr>\n",
       "  <th>AR.6</th>  <td>           0.4188</td> <td>          -1.1196j</td> <td>           1.1954</td> <td>          -0.1930</td>\n",
       "</tr>\n",
       "<tr>\n",
       "  <th>AR.7</th>  <td>           0.4188</td> <td>          +1.1196j</td> <td>           1.1954</td> <td>           0.1930</td>\n",
       "</tr>\n",
       "<tr>\n",
       "  <th>AR.8</th>  <td>          -0.0193</td> <td>          -1.2117j</td> <td>           1.2118</td> <td>          -0.2525</td>\n",
       "</tr>\n",
       "<tr>\n",
       "  <th>AR.9</th>  <td>          -0.0193</td> <td>          +1.2117j</td> <td>           1.2118</td> <td>           0.2525</td>\n",
       "</tr>\n",
       "<tr>\n",
       "  <th>AR.10</th> <td>          -0.4686</td> <td>          -1.1126j</td> <td>           1.2073</td> <td>          -0.3134</td>\n",
       "</tr>\n",
       "<tr>\n",
       "  <th>AR.11</th> <td>          -0.4686</td> <td>          +1.1126j</td> <td>           1.2073</td> <td>           0.3134</td>\n",
       "</tr>\n",
       "<tr>\n",
       "  <th>AR.12</th> <td>          -0.8507</td> <td>          -0.8395j</td> <td>           1.1952</td> <td>          -0.3761</td>\n",
       "</tr>\n",
       "<tr>\n",
       "  <th>AR.13</th> <td>          -0.8507</td> <td>          +0.8395j</td> <td>           1.1952</td> <td>           0.3761</td>\n",
       "</tr>\n",
       "<tr>\n",
       "  <th>AR.14</th> <td>          -1.1268</td> <td>          -0.4153j</td> <td>           1.2008</td> <td>          -0.4438</td>\n",
       "</tr>\n",
       "<tr>\n",
       "  <th>AR.15</th> <td>          -1.1268</td> <td>          +0.4153j</td> <td>           1.2008</td> <td>           0.4438</td>\n",
       "</tr>\n",
       "<tr>\n",
       "  <th>AR.16</th> <td>          -1.2589</td> <td>          -0.0000j</td> <td>           1.2589</td> <td>          -0.5000</td>\n",
       "</tr>\n",
       "<tr>\n",
       "  <th>MA.1</th>  <td>           1.2852</td> <td>          -0.6839j</td> <td>           1.4558</td> <td>          -0.0778</td>\n",
       "</tr>\n",
       "<tr>\n",
       "  <th>MA.2</th>  <td>           1.2852</td> <td>          +0.6839j</td> <td>           1.4558</td> <td>           0.0778</td>\n",
       "</tr>\n",
       "<tr>\n",
       "  <th>MA.3</th>  <td>           0.4562</td> <td>          -1.4689j</td> <td>           1.5381</td> <td>          -0.2021</td>\n",
       "</tr>\n",
       "<tr>\n",
       "  <th>MA.4</th>  <td>           0.4562</td> <td>          +1.4689j</td> <td>           1.5381</td> <td>           0.2021</td>\n",
       "</tr>\n",
       "<tr>\n",
       "  <th>MA.5</th>  <td>          -0.7008</td> <td>          -1.3428j</td> <td>           1.5147</td> <td>          -0.3266</td>\n",
       "</tr>\n",
       "<tr>\n",
       "  <th>MA.6</th>  <td>          -0.7008</td> <td>          +1.3428j</td> <td>           1.5147</td> <td>           0.3266</td>\n",
       "</tr>\n",
       "<tr>\n",
       "  <th>MA.7</th>  <td>          -1.5207</td> <td>          -0.5649j</td> <td>           1.6222</td> <td>          -0.4434</td>\n",
       "</tr>\n",
       "<tr>\n",
       "  <th>MA.8</th>  <td>          -1.5207</td> <td>          +0.5649j</td> <td>           1.6222</td> <td>           0.4434</td>\n",
       "</tr>\n",
       "</table>"
      ],
      "text/plain": [
       "<class 'statsmodels.iolib.summary.Summary'>\n",
       "\"\"\"\n",
       "                              ARMA Model Results                              \n",
       "==============================================================================\n",
       "Dep. Variable:              SPEED_AVG   No. Observations:                 7000\n",
       "Model:                    ARMA(16, 8)   Log Likelihood              -27027.276\n",
       "Method:                           mle   S.D. of innovations             11.494\n",
       "Date:                Tue, 28 May 2019   AIC                          54106.551\n",
       "Time:                        19:39:28   BIC                          54284.747\n",
       "Sample:                             0   HQIC                         54167.955\n",
       "                                                                              \n",
       "====================================================================================\n",
       "                       coef    std err          z      P>|z|      [0.025      0.975]\n",
       "------------------------------------------------------------------------------------\n",
       "x1                  -0.0505      0.002    -20.329      0.000      -0.055      -0.046\n",
       "ar.L1.SPEED_AVG      0.2223        nan        nan        nan         nan         nan\n",
       "ar.L2.SPEED_AVG      0.2413        nan        nan        nan         nan         nan\n",
       "ar.L3.SPEED_AVG      0.1763        nan        nan        nan         nan         nan\n",
       "ar.L4.SPEED_AVG      0.1407        nan        nan        nan         nan         nan\n",
       "ar.L5.SPEED_AVG      0.0620      0.091      0.682      0.496      -0.116       0.240\n",
       "ar.L6.SPEED_AVG      0.0281        nan        nan        nan         nan         nan\n",
       "ar.L7.SPEED_AVG      0.0025        nan        nan        nan         nan         nan\n",
       "ar.L8.SPEED_AVG     -0.0046      0.156     -0.029      0.977      -0.311       0.302\n",
       "ar.L9.SPEED_AVG      0.0084        nan        nan        nan         nan         nan\n",
       "ar.L10.SPEED_AVG    -0.0161        nan        nan        nan         nan         nan\n",
       "ar.L11.SPEED_AVG     0.0054        nan        nan        nan         nan         nan\n",
       "ar.L12.SPEED_AVG    -0.0223        nan        nan        nan         nan         nan\n",
       "ar.L13.SPEED_AVG     0.0218      0.015      1.474      0.141      -0.007       0.051\n",
       "ar.L14.SPEED_AVG     0.0206      0.009      2.295      0.022       0.003       0.038\n",
       "ar.L15.SPEED_AVG     0.0378      0.002     25.053      0.000       0.035       0.041\n",
       "ar.L16.SPEED_AVG     0.0699      0.008      8.553      0.000       0.054       0.086\n",
       "ma.L1.SPEED_AVG      0.1682        nan        nan        nan         nan         nan\n",
       "ma.L2.SPEED_AVG      0.0603        nan        nan        nan         nan         nan\n",
       "ma.L3.SPEED_AVG      0.0152        nan        nan        nan         nan         nan\n",
       "ma.L4.SPEED_AVG      0.0349        nan        nan        nan         nan         nan\n",
       "ma.L5.SPEED_AVG      0.0329      0.076      0.432      0.666      -0.117       0.182\n",
       "ma.L6.SPEED_AVG      0.0180        nan        nan        nan         nan         nan\n",
       "ma.L7.SPEED_AVG      0.0317      0.038      0.829      0.407      -0.043       0.107\n",
       "ma.L8.SPEED_AVG      0.0330      0.068      0.489      0.625      -0.099       0.165\n",
       "                                    Roots                                     \n",
       "==============================================================================\n",
       "                   Real          Imaginary           Modulus         Frequency\n",
       "------------------------------------------------------------------------------\n",
       "AR.1             1.0014           -0.0000j            1.0014           -0.0000\n",
       "AR.2             1.0772           -0.3645j            1.1372           -0.0519\n",
       "AR.3             1.0772           +0.3645j            1.1372            0.0519\n",
       "AR.4             0.8277           -0.8409j            1.1800           -0.1263\n",
       "AR.5             0.8277           +0.8409j            1.1800            0.1263\n",
       "AR.6             0.4188           -1.1196j            1.1954           -0.1930\n",
       "AR.7             0.4188           +1.1196j            1.1954            0.1930\n",
       "AR.8            -0.0193           -1.2117j            1.2118           -0.2525\n",
       "AR.9            -0.0193           +1.2117j            1.2118            0.2525\n",
       "AR.10           -0.4686           -1.1126j            1.2073           -0.3134\n",
       "AR.11           -0.4686           +1.1126j            1.2073            0.3134\n",
       "AR.12           -0.8507           -0.8395j            1.1952           -0.3761\n",
       "AR.13           -0.8507           +0.8395j            1.1952            0.3761\n",
       "AR.14           -1.1268           -0.4153j            1.2008           -0.4438\n",
       "AR.15           -1.1268           +0.4153j            1.2008            0.4438\n",
       "AR.16           -1.2589           -0.0000j            1.2589           -0.5000\n",
       "MA.1             1.2852           -0.6839j            1.4558           -0.0778\n",
       "MA.2             1.2852           +0.6839j            1.4558            0.0778\n",
       "MA.3             0.4562           -1.4689j            1.5381           -0.2021\n",
       "MA.4             0.4562           +1.4689j            1.5381            0.2021\n",
       "MA.5            -0.7008           -1.3428j            1.5147           -0.3266\n",
       "MA.6            -0.7008           +1.3428j            1.5147            0.3266\n",
       "MA.7            -1.5207           -0.5649j            1.6222           -0.4434\n",
       "MA.8            -1.5207           +0.5649j            1.6222            0.4434\n",
       "------------------------------------------------------------------------------\n",
       "\"\"\""
      ]
     },
     "execution_count": 43,
     "metadata": {},
     "output_type": "execute_result"
    }
   ],
   "source": [
    "results_model.summary()"
   ]
  },
  {
   "cell_type": "code",
   "execution_count": 44,
   "metadata": {},
   "outputs": [
    {
     "data": {
      "image/png": "[encoded data removed]",
      "text/plain": [
       "<Figure size 1440x720 with 1 Axes>"
      ]
     },
     "metadata": {
      "needs_background": "light"
     },
     "output_type": "display_data"
    }
   ],
   "source": [
    "residuals = pd.DataFrame(results_model.resid)\n",
    "residuals.plot(figsize=(20, 10))\n",
    "plt.show()"
   ]
  },
  {
   "cell_type": "code",
   "execution_count": 45,
   "metadata": {},
   "outputs": [
    {
     "data": {
      "image/png": "[encoded data removed]",
      "text/plain": [
       "<Figure size 1440x720 with 1 Axes>"
      ]
     },
     "metadata": {
      "needs_background": "light"
     },
     "output_type": "display_data"
    }
   ],
   "source": [
    "residuals.plot(figsize=(20, 10), kind='kde');"
   ]
  },
  {
   "cell_type": "code",
   "execution_count": 46,
   "metadata": {},
   "outputs": [
    {
     "data": {
      "text/html": [
       "<div>\n",
       "<style scoped>\n",
       "    .dataframe tbody tr th:only-of-type {\n",
       "        vertical-align: middle;\n",
       "    }\n",
       "\n",
       "    .dataframe tbody tr th {\n",
       "        vertical-align: top;\n",
       "    }\n",
       "\n",
       "    .dataframe thead th {\n",
       "        text-align: right;\n",
       "    }\n",
       "</style>\n",
       "<table border=\"1\" class=\"dataframe\">\n",
       "  <thead>\n",
       "    <tr style=\"text-align: right;\">\n",
       "      <th></th>\n",
       "      <th>0</th>\n",
       "    </tr>\n",
       "  </thead>\n",
       "  <tbody>\n",
       "    <tr>\n",
       "      <th>count</th>\n",
       "      <td>7000.000000</td>\n",
       "    </tr>\n",
       "    <tr>\n",
       "      <th>mean</th>\n",
       "      <td>1.053648</td>\n",
       "    </tr>\n",
       "    <tr>\n",
       "      <th>std</th>\n",
       "      <td>11.787862</td>\n",
       "    </tr>\n",
       "    <tr>\n",
       "      <th>min</th>\n",
       "      <td>-137.660068</td>\n",
       "    </tr>\n",
       "    <tr>\n",
       "      <th>25%</th>\n",
       "      <td>-2.184935</td>\n",
       "    </tr>\n",
       "    <tr>\n",
       "      <th>50%</th>\n",
       "      <td>1.408015</td>\n",
       "    </tr>\n",
       "    <tr>\n",
       "      <th>75%</th>\n",
       "      <td>5.035216</td>\n",
       "    </tr>\n",
       "    <tr>\n",
       "      <th>max</th>\n",
       "      <td>238.703784</td>\n",
       "    </tr>\n",
       "  </tbody>\n",
       "</table>\n",
       "</div>"
      ],
      "text/plain": [
       "                 0\n",
       "count  7000.000000\n",
       "mean      1.053648\n",
       "std      11.787862\n",
       "min    -137.660068\n",
       "25%      -2.184935\n",
       "50%       1.408015\n",
       "75%       5.035216\n",
       "max     238.703784"
      ]
     },
     "execution_count": 46,
     "metadata": {},
     "output_type": "execute_result"
    }
   ],
   "source": [
    "residuals.describe()"
   ]
  },
  {
   "cell_type": "code",
   "execution_count": 50,
   "metadata": {},
   "outputs": [
    {
     "ename": "IndexError",
     "evalue": "index 0 is out of bounds for axis 0 with size 0",
     "output_type": "error",
     "traceback": [
      "\u001b[0;31m---------------------------------------------------------------------------\u001b[0m",
      "\u001b[0;31mIndexError\u001b[0m                                Traceback (most recent call last)",
      "\u001b[0;32m<ipython-input-50-1e5c4f8fc90c>\u001b[0m in \u001b[0;36m<module>\u001b[0;34m\u001b[0m\n\u001b[0;32m----> 1\u001b[0;31m \u001b[0mpredicted\u001b[0m \u001b[0;34m=\u001b[0m \u001b[0mresults_model\u001b[0m\u001b[0;34m.\u001b[0m\u001b[0mforecast\u001b[0m\u001b[0;34m(\u001b[0m\u001b[0msteps\u001b[0m\u001b[0;34m=\u001b[0m\u001b[0;36m1\u001b[0m\u001b[0;34m,\u001b[0m \u001b[0mexog\u001b[0m\u001b[0;34m=\u001b[0m\u001b[0mu_test\u001b[0m\u001b[0;34m[\u001b[0m\u001b[0;36m0\u001b[0m\u001b[0;34m]\u001b[0m\u001b[0;34m)\u001b[0m\u001b[0;34m\u001b[0m\u001b[0;34m\u001b[0m\u001b[0m\n\u001b[0m",
      "\u001b[0;31mIndexError\u001b[0m: index 0 is out of bounds for axis 0 with size 0"
     ]
    }
   ],
   "source": [
    "predicted = results_model.forecast(steps=len(y_test), exog=u_test)"
   ]
  },
  {
   "cell_type": "code",
   "execution_count": null,
   "metadata": {},
   "outputs": [],
   "source": [
    "predicted[0].shape"
   ]
  },
  {
   "cell_type": "code",
   "execution_count": null,
   "metadata": {},
   "outputs": [],
   "source": [
    "plt.figure(figsize=(20, 10))\n",
    "plt.plot(y_test[0:100])\n",
    "plt.plot(predicted[0][0:100], color='red')\n",
    "plt.show()"
   ]
  }
 ],
 "metadata": {
  "kernelspec": {
   "display_name": "Python 3",
   "language": "python",
   "name": "python3"
  },
  "language_info": {
   "codemirror_mode": {
    "name": "ipython",
    "version": 3
   },
   "file_extension": ".py",
   "mimetype": "text/x-python",
   "name": "python",
   "nbconvert_exporter": "python",
   "pygments_lexer": "ipython3",
   "version": "3.7.3"
  }
 },
 "nbformat": 4,
 "nbformat_minor": 2
}
