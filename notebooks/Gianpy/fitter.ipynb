{
 "cells": [
  {
   "cell_type": "code",
   "execution_count": 1,
   "metadata": {},
   "outputs": [],
   "source": [
    "import pandas as pd\n",
    "from tqdm import tqdm_notebook as tqdm\n",
    "import os\n",
    "import numpy as np\n",
    "os.chdir('../..')\n",
    "\n",
    "from src.utils import *"
   ]
  },
  {
   "cell_type": "code",
   "execution_count": 2,
   "metadata": {},
   "outputs": [],
   "source": [
    "speeds_df = pd.read_csv(resources_path('dataset', 'originals', 'speeds_train.csv.gz'))\n",
    "sensors_df = pd.read_csv(resources_path('dataset', 'originals', 'sensors.csv.gz'))"
   ]
  },
  {
   "cell_type": "code",
   "execution_count": 4,
   "metadata": {},
   "outputs": [
    {
     "name": "stdout",
     "output_type": "stream",
     "text": [
      "CPU times: user 7.84 ms, sys: 32.5 ms, total: 40.3 ms\n",
      "Wall time: 38.9 ms\n"
     ]
    }
   ],
   "source": [
    "%time speeds_df = speeds_df[speeds_df[KEY] == 0]"
   ]
  },
  {
   "cell_type": "markdown",
   "metadata": {},
   "source": [
    "## Creating skeleton dataframe"
   ]
  },
  {
   "cell_type": "code",
   "execution_count": 98,
   "metadata": {},
   "outputs": [
    {
     "name": "stdout",
     "output_type": "stream",
     "text": [
      "(2269, 5)\n"
     ]
    },
    {
     "data": {
      "text/html": [
       "<div>\n",
       "<style scoped>\n",
       "    .dataframe tbody tr th:only-of-type {\n",
       "        vertical-align: middle;\n",
       "    }\n",
       "\n",
       "    .dataframe tbody tr th {\n",
       "        vertical-align: top;\n",
       "    }\n",
       "\n",
       "    .dataframe thead th {\n",
       "        text-align: right;\n",
       "    }\n",
       "</style>\n",
       "<table border=\"1\" class=\"dataframe\">\n",
       "  <thead>\n",
       "    <tr style=\"text-align: right;\">\n",
       "      <th></th>\n",
       "      <th>KEY</th>\n",
       "      <th>EMERGENCY_LANE</th>\n",
       "      <th>KM</th>\n",
       "      <th>LANES</th>\n",
       "      <th>ROAD_TYPE</th>\n",
       "    </tr>\n",
       "  </thead>\n",
       "  <tbody>\n",
       "    <tr>\n",
       "      <th>932</th>\n",
       "      <td>0.0</td>\n",
       "      <td>1</td>\n",
       "      <td>333</td>\n",
       "      <td>2</td>\n",
       "      <td>1</td>\n",
       "    </tr>\n",
       "    <tr>\n",
       "      <th>1642</th>\n",
       "      <td>0.0</td>\n",
       "      <td>1</td>\n",
       "      <td>337</td>\n",
       "      <td>2</td>\n",
       "      <td>1</td>\n",
       "    </tr>\n",
       "    <tr>\n",
       "      <th>472</th>\n",
       "      <td>0.0</td>\n",
       "      <td>1</td>\n",
       "      <td>342</td>\n",
       "      <td>2</td>\n",
       "      <td>1</td>\n",
       "    </tr>\n",
       "  </tbody>\n",
       "</table>\n",
       "</div>"
      ],
      "text/plain": [
       "      KEY  EMERGENCY_LANE   KM  LANES  ROAD_TYPE\n",
       "932   0.0               1  333      2          1\n",
       "1642  0.0               1  337      2          1\n",
       "472   0.0               1  342      2          1"
      ]
     },
     "execution_count": 98,
     "metadata": {},
     "output_type": "execute_result"
    }
   ],
   "source": [
    "print(sensors_df.shape)\n",
    "sensors_df.sort_values([KEY, KM]).head(3)"
   ]
  },
  {
   "cell_type": "code",
   "execution_count": null,
   "metadata": {},
   "outputs": [],
   "source": [
    "min_time = pd.to_datetime(speeds_df.DATETIME_UTC).astype('int').min()\n",
    "max_time = pd.to_datetime(speeds_df.DATETIME_UTC).astype('int').max()\n",
    "min_time = min_time//(10**9)\n",
    "max_time = max_time//(10**9)\n",
    "datetimes = np.arange(min_time, max_time, 15*60)\n",
    "datetimes = datetimes*(10**9)"
   ]
  },
  {
   "cell_type": "code",
   "execution_count": null,
   "metadata": {},
   "outputs": [],
   "source": [
    "datetimes = pd.to_datetime(datetimes)\n",
    "datetimes = pd.DataFrame({DATETIME: datetimes})\n",
    "datetimes.shape"
   ]
  },
  {
   "cell_type": "code",
   "execution_count": null,
   "metadata": {},
   "outputs": [],
   "source": [
    "datetimes['key'] = 0\n",
    "sensors = sensors_df[[KEY, KM]].drop_duplicates()\n",
    "print(sensors.shape)\n",
    "sensors['key'] = 0\n",
    "skeleton_train_df = pd.merge(sensors, datetimes, on='key')[[KEY, KM, DATETIME]].sort_values([KEY, KM, DATETIME])\n",
    "skeleton_train_df.head(10)"
   ]
  },
  {
   "cell_type": "code",
   "execution_count": null,
   "metadata": {},
   "outputs": [],
   "source": [
    "# skeleton_train_df.to_csv(resources_path('dataset', 'preprocessed', 'skeleton_train.csv.gz'))"
   ]
  },
  {
   "cell_type": "markdown",
   "metadata": {},
   "source": [
    "## Fill gaps for the first sensor"
   ]
  },
  {
   "cell_type": "code",
   "execution_count": 3,
   "metadata": {},
   "outputs": [],
   "source": [
    "skeleton_train_df = pd.read_csv(resources_path('dataset', 'preprocessed', 'skeleton_train.csv.gz'))"
   ]
  },
  {
   "cell_type": "code",
   "execution_count": 174,
   "metadata": {},
   "outputs": [
    {
     "data": {
      "text/html": [
       "<div>\n",
       "<style scoped>\n",
       "    .dataframe tbody tr th:only-of-type {\n",
       "        vertical-align: middle;\n",
       "    }\n",
       "\n",
       "    .dataframe tbody tr th {\n",
       "        vertical-align: top;\n",
       "    }\n",
       "\n",
       "    .dataframe thead th {\n",
       "        text-align: right;\n",
       "    }\n",
       "</style>\n",
       "<table border=\"1\" class=\"dataframe\">\n",
       "  <thead>\n",
       "    <tr style=\"text-align: right;\">\n",
       "      <th></th>\n",
       "      <th>KEY</th>\n",
       "      <th>KM</th>\n",
       "      <th>DATETIME_UTC</th>\n",
       "      <th>SPEED_AVG</th>\n",
       "      <th>SPEED_SD</th>\n",
       "      <th>SPEED_MIN</th>\n",
       "      <th>SPEED_MAX</th>\n",
       "      <th>N_VEHICLES</th>\n",
       "    </tr>\n",
       "  </thead>\n",
       "  <tbody>\n",
       "    <tr>\n",
       "      <th>0</th>\n",
       "      <td>0.0</td>\n",
       "      <td>333</td>\n",
       "      <td>2018-09-01 00:00:00</td>\n",
       "      <td>231.125907</td>\n",
       "      <td>34.573767</td>\n",
       "      <td>169.89</td>\n",
       "      <td>440.096</td>\n",
       "      <td>150.0</td>\n",
       "    </tr>\n",
       "    <tr>\n",
       "      <th>759945</th>\n",
       "      <td>14.0</td>\n",
       "      <td>1049</td>\n",
       "      <td>2018-09-01 00:00:00</td>\n",
       "      <td>NaN</td>\n",
       "      <td>NaN</td>\n",
       "      <td>NaN</td>\n",
       "      <td>NaN</td>\n",
       "      <td>NaN</td>\n",
       "    </tr>\n",
       "  </tbody>\n",
       "</table>\n",
       "</div>"
      ],
      "text/plain": [
       "         KEY    KM         DATETIME_UTC   SPEED_AVG   SPEED_SD  SPEED_MIN  \\\n",
       "0        0.0   333  2018-09-01 00:00:00  231.125907  34.573767     169.89   \n",
       "759945  14.0  1049  2018-09-01 00:00:00         NaN        NaN        NaN   \n",
       "\n",
       "        SPEED_MAX  N_VEHICLES  \n",
       "0         440.096       150.0  \n",
       "759945        NaN         NaN  "
      ]
     },
     "execution_count": 174,
     "metadata": {},
     "output_type": "execute_result"
    }
   ],
   "source": [
    "speeds = speeds_df# [(speeds_df.KEY == 0) & ((speeds_df.KM == 333) | (speeds_df.KM == 333))]\n",
    "skeleton = skeleton_train_df[[KEY, KM, DATETIME]]#[(skeleton_train_df.KEY == 0) & ((skeleton_train_df.KM == 333) | (skeleton_train_df.KM == 333))]\n",
    "complete_df = pd.merge(skeleton, speeds, on=[KEY, KM, DATETIME], how='left')[[KEY, KM, DATETIME, SPEED_AVG, SPEED_SD, SPEED_MIN, SPEED_MAX, N_CARS]]\n",
    "complete_df.sort_values(DATETIME).head(2)"
   ]
  },
  {
   "cell_type": "code",
   "execution_count": 175,
   "metadata": {},
   "outputs": [
    {
     "data": {
      "text/plain": [
       "8132259"
      ]
     },
     "execution_count": 175,
     "metadata": {},
     "output_type": "execute_result"
    }
   ],
   "source": [
    "complete_df.isnull().any(axis=1).sum()"
   ]
  },
  {
   "cell_type": "code",
   "execution_count": 176,
   "metadata": {},
   "outputs": [
    {
     "data": {
      "text/html": [
       "<div>\n",
       "<style scoped>\n",
       "    .dataframe tbody tr th:only-of-type {\n",
       "        vertical-align: middle;\n",
       "    }\n",
       "\n",
       "    .dataframe tbody tr th {\n",
       "        vertical-align: top;\n",
       "    }\n",
       "\n",
       "    .dataframe thead th {\n",
       "        text-align: right;\n",
       "    }\n",
       "</style>\n",
       "<table border=\"1\" class=\"dataframe\">\n",
       "  <thead>\n",
       "    <tr style=\"text-align: right;\">\n",
       "      <th></th>\n",
       "      <th>KEY</th>\n",
       "      <th>KM</th>\n",
       "      <th>DATETIME_UTC</th>\n",
       "      <th>SPEED_AVG</th>\n",
       "      <th>SPEED_SD</th>\n",
       "      <th>SPEED_MIN</th>\n",
       "      <th>SPEED_MAX</th>\n",
       "      <th>N_VEHICLES</th>\n",
       "      <th>IMPUTED</th>\n",
       "    </tr>\n",
       "  </thead>\n",
       "  <tbody>\n",
       "    <tr>\n",
       "      <th>4315090</th>\n",
       "      <td>87.0</td>\n",
       "      <td>1496</td>\n",
       "      <td>2018-09-01 00:00:00</td>\n",
       "      <td>NaN</td>\n",
       "      <td>NaN</td>\n",
       "      <td>NaN</td>\n",
       "      <td>NaN</td>\n",
       "      <td>NaN</td>\n",
       "      <td>True</td>\n",
       "    </tr>\n",
       "    <tr>\n",
       "      <th>2314775</th>\n",
       "      <td>47.0</td>\n",
       "      <td>1782</td>\n",
       "      <td>2018-09-01 00:00:00</td>\n",
       "      <td>NaN</td>\n",
       "      <td>NaN</td>\n",
       "      <td>NaN</td>\n",
       "      <td>NaN</td>\n",
       "      <td>NaN</td>\n",
       "      <td>True</td>\n",
       "    </tr>\n",
       "  </tbody>\n",
       "</table>\n",
       "</div>"
      ],
      "text/plain": [
       "          KEY    KM         DATETIME_UTC  SPEED_AVG  SPEED_SD  SPEED_MIN  \\\n",
       "4315090  87.0  1496  2018-09-01 00:00:00        NaN       NaN        NaN   \n",
       "2314775  47.0  1782  2018-09-01 00:00:00        NaN       NaN        NaN   \n",
       "\n",
       "         SPEED_MAX  N_VEHICLES  IMPUTED  \n",
       "4315090        NaN         NaN     True  \n",
       "2314775        NaN         NaN     True  "
      ]
     },
     "execution_count": 176,
     "metadata": {},
     "output_type": "execute_result"
    }
   ],
   "source": [
    "complete_df['IMPUTED'] = complete_df.isnull().any(axis=1)\n",
    "complete_df[complete_df['IMPUTED'] == True].sort_values([DATETIME]).head(2)"
   ]
  },
  {
   "cell_type": "code",
   "execution_count": 177,
   "metadata": {},
   "outputs": [
    {
     "data": {
      "text/html": [
       "<div>\n",
       "<style scoped>\n",
       "    .dataframe tbody tr th:only-of-type {\n",
       "        vertical-align: middle;\n",
       "    }\n",
       "\n",
       "    .dataframe tbody tr th {\n",
       "        vertical-align: top;\n",
       "    }\n",
       "\n",
       "    .dataframe thead th {\n",
       "        text-align: right;\n",
       "    }\n",
       "</style>\n",
       "<table border=\"1\" class=\"dataframe\">\n",
       "  <thead>\n",
       "    <tr style=\"text-align: right;\">\n",
       "      <th></th>\n",
       "      <th>KEY</th>\n",
       "      <th>KM</th>\n",
       "      <th>SPEED_AVG</th>\n",
       "      <th>SPEED_SD</th>\n",
       "      <th>SPEED_MIN</th>\n",
       "      <th>SPEED_MAX</th>\n",
       "      <th>N_VEHICLES</th>\n",
       "      <th>IMPUTED</th>\n",
       "    </tr>\n",
       "    <tr>\n",
       "      <th>DATETIME_UTC</th>\n",
       "      <th></th>\n",
       "      <th></th>\n",
       "      <th></th>\n",
       "      <th></th>\n",
       "      <th></th>\n",
       "      <th></th>\n",
       "      <th></th>\n",
       "      <th></th>\n",
       "    </tr>\n",
       "  </thead>\n",
       "  <tbody>\n",
       "    <tr>\n",
       "      <th>2018-09-01 00:00:00</th>\n",
       "      <td>0.0</td>\n",
       "      <td>333</td>\n",
       "      <td>231.125907</td>\n",
       "      <td>34.573767</td>\n",
       "      <td>169.890</td>\n",
       "      <td>440.096</td>\n",
       "      <td>150.0</td>\n",
       "      <td>False</td>\n",
       "    </tr>\n",
       "    <tr>\n",
       "      <th>2018-09-01 00:15:00</th>\n",
       "      <td>0.0</td>\n",
       "      <td>333</td>\n",
       "      <td>225.915947</td>\n",
       "      <td>41.437726</td>\n",
       "      <td>98.698</td>\n",
       "      <td>436.860</td>\n",
       "      <td>225.0</td>\n",
       "      <td>False</td>\n",
       "    </tr>\n",
       "  </tbody>\n",
       "</table>\n",
       "</div>"
      ],
      "text/plain": [
       "                     KEY   KM   SPEED_AVG   SPEED_SD  SPEED_MIN  SPEED_MAX  \\\n",
       "DATETIME_UTC                                                                 \n",
       "2018-09-01 00:00:00  0.0  333  231.125907  34.573767    169.890    440.096   \n",
       "2018-09-01 00:15:00  0.0  333  225.915947  41.437726     98.698    436.860   \n",
       "\n",
       "                     N_VEHICLES  IMPUTED  \n",
       "DATETIME_UTC                              \n",
       "2018-09-01 00:00:00       150.0    False  \n",
       "2018-09-01 00:15:00       225.0    False  "
      ]
     },
     "execution_count": 177,
     "metadata": {},
     "output_type": "execute_result"
    }
   ],
   "source": [
    "complete_df[DATETIME] = pd.to_datetime(complete_df[DATETIME])\n",
    "complete_df = complete_df.set_index([DATETIME])\n",
    "complete_df.head(2)"
   ]
  },
  {
   "cell_type": "code",
   "execution_count": 178,
   "metadata": {},
   "outputs": [
    {
     "data": {
      "text/plain": [
       "7310755"
      ]
     },
     "execution_count": 178,
     "metadata": {},
     "output_type": "execute_result"
    }
   ],
   "source": [
    "complete_df = complete_df.interpolate(method='time', limit=3, limit_area='inside')\n",
    "complete_df.isnull().any(axis=1).sum()"
   ]
  },
  {
   "cell_type": "code",
   "execution_count": 179,
   "metadata": {},
   "outputs": [],
   "source": [
    "complete_df.to_csv(resources_path('dataset', 'preprocessed', 'speeds_train_imputed_time.csv.gz'))"
   ]
  }
 ],
 "metadata": {
  "kernelspec": {
   "display_name": "Python 3",
   "language": "python",
   "name": "python3"
  },
  "language_info": {
   "codemirror_mode": {
    "name": "ipython",
    "version": 3
   },
   "file_extension": ".py",
   "mimetype": "text/x-python",
   "name": "python",
   "nbconvert_exporter": "python",
   "pygments_lexer": "ipython3",
   "version": "3.7.0"
  }
 },
 "nbformat": 4,
 "nbformat_minor": 2
}
